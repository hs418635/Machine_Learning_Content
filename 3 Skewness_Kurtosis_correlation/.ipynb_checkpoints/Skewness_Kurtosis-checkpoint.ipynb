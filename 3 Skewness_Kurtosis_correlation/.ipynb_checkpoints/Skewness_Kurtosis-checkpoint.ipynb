{
 "cells": [
  {
   "cell_type": "code",
   "execution_count": 67,
   "id": "0928a154",
   "metadata": {},
   "outputs": [
    {
     "data": {
      "text/plain": [
       "'E:\\\\DebugShala\\\\Machine learning\\\\3'"
      ]
     },
     "execution_count": 67,
     "metadata": {},
     "output_type": "execute_result"
    }
   ],
   "source": [
    "import os\n",
    "os.getcwd()"
   ]
  },
  {
   "cell_type": "code",
   "execution_count": 37,
   "id": "3dd014f2",
   "metadata": {
    "scrolled": false
   },
   "outputs": [
    {
     "name": "stdout",
     "output_type": "stream",
     "text": [
      "   datasrno  workex  gmat\n",
      "0         1      21   720\n",
      "1         2     107   640\n",
      "2         3      57   740\n",
      "3         4      99   690\n",
      "4         5     208   710\n"
     ]
    }
   ],
   "source": [
    "import numpy as np\n",
    "import pandas as pd\n",
    "import matplotlib.pyplot as plt\n",
    "df = pd.read_csv(\"E:\\\\DebugShala\\\\Machine learning\\\\3\\\\mba.csv\")\n",
    "print(df.head())"
   ]
  },
  {
   "cell_type": "markdown",
   "id": "2b0f86bf",
   "metadata": {},
   "source": [
    "### skewness"
   ]
  },
  {
   "cell_type": "code",
   "execution_count": 38,
   "id": "c51713dd",
   "metadata": {},
   "outputs": [
    {
     "data": {
      "text/plain": [
       "datasrno    0.000000\n",
       "workex      2.608537\n",
       "gmat       -0.595477\n",
       "dtype: float64"
      ]
     },
     "execution_count": 38,
     "metadata": {},
     "output_type": "execute_result"
    }
   ],
   "source": [
    "df.skew() # skewness of whole dataset"
   ]
  },
  {
   "cell_type": "code",
   "execution_count": 39,
   "id": "934ccdad",
   "metadata": {
    "scrolled": true
   },
   "outputs": [
    {
     "data": {
      "text/plain": [
       "-0.5954765248452923"
      ]
     },
     "execution_count": 39,
     "metadata": {},
     "output_type": "execute_result"
    }
   ],
   "source": [
    "df['gmat'].skew() # skewness of column"
   ]
  },
  {
   "cell_type": "code",
   "execution_count": 29,
   "id": "c3aae9bc",
   "metadata": {
    "scrolled": true
   },
   "outputs": [
    {
     "data": {
      "text/plain": [
       "(array([  6.,   9.,  20.,  30.,  54., 143., 282., 143.,  67.,  19.]),\n",
       " array([600., 618., 636., 654., 672., 690., 708., 726., 744., 762., 780.]),\n",
       " <BarContainer object of 10 artists>)"
      ]
     },
     "execution_count": 29,
     "metadata": {},
     "output_type": "execute_result"
    },
    {
     "data": {
      "image/png": "[encoded data removed]",
      "text/plain": [
       "<Figure size 640x480 with 1 Axes>"
      ]
     },
     "metadata": {},
     "output_type": "display_data"
    }
   ],
   "source": [
    "# you can check the tail is in left side and above gmat skewness value is also -ve -0.5054\n",
    "plt.hist(df['gmat']) # checking skewness of gmat column"
   ]
  },
  {
   "cell_type": "code",
   "execution_count": 28,
   "id": "72bce4d5",
   "metadata": {},
   "outputs": [
    {
     "data": {
      "text/plain": [
       "(array([156., 368., 172.,  49.,  22.,   0.,   2.,   1.,   1.,   2.]),\n",
       " array([  9.,  36.,  63.,  90., 117., 144., 171., 198., 225., 252., 279.]),\n",
       " <BarContainer object of 10 artists>)"
      ]
     },
     "execution_count": 28,
     "metadata": {},
     "output_type": "execute_result"
    },
    {
     "data": {
      "image/png": "[encoded data removed]",
      "text/plain": [
       "<Figure size 640x480 with 1 Axes>"
      ]
     },
     "metadata": {},
     "output_type": "display_data"
    }
   ],
   "source": [
    "plt.hist(df['workex'])"
   ]
  },
  {
   "cell_type": "code",
   "execution_count": 40,
   "id": "fc2a9da0",
   "metadata": {},
   "outputs": [],
   "source": [
    "# plt.hist(df['datasrno'])\n",
    "# histogram_will_be_flat"
   ]
  },
  {
   "cell_type": "markdown",
   "id": "496344f3",
   "metadata": {},
   "source": [
    "### Kurtosis"
   ]
  },
  {
   "cell_type": "code",
   "execution_count": 42,
   "id": "5e23f58b",
   "metadata": {},
   "outputs": [],
   "source": [
    "from scipy.stats import kurtosis"
   ]
  },
  {
   "cell_type": "code",
   "execution_count": 48,
   "id": "0c77d4d9",
   "metadata": {},
   "outputs": [
    {
     "data": {
      "text/html": [
       "<div>\n",
       "<style scoped>\n",
       "    .dataframe tbody tr th:only-of-type {\n",
       "        vertical-align: middle;\n",
       "    }\n",
       "\n",
       "    .dataframe tbody tr th {\n",
       "        vertical-align: top;\n",
       "    }\n",
       "\n",
       "    .dataframe thead th {\n",
       "        text-align: right;\n",
       "    }\n",
       "</style>\n",
       "<table border=\"1\" class=\"dataframe\">\n",
       "  <thead>\n",
       "    <tr style=\"text-align: right;\">\n",
       "      <th></th>\n",
       "      <th>datasrno</th>\n",
       "      <th>workex</th>\n",
       "      <th>gmat</th>\n",
       "    </tr>\n",
       "  </thead>\n",
       "  <tbody>\n",
       "    <tr>\n",
       "      <th>0</th>\n",
       "      <td>1</td>\n",
       "      <td>21</td>\n",
       "      <td>720</td>\n",
       "    </tr>\n",
       "    <tr>\n",
       "      <th>1</th>\n",
       "      <td>2</td>\n",
       "      <td>107</td>\n",
       "      <td>640</td>\n",
       "    </tr>\n",
       "    <tr>\n",
       "      <th>2</th>\n",
       "      <td>3</td>\n",
       "      <td>57</td>\n",
       "      <td>740</td>\n",
       "    </tr>\n",
       "    <tr>\n",
       "      <th>3</th>\n",
       "      <td>4</td>\n",
       "      <td>99</td>\n",
       "      <td>690</td>\n",
       "    </tr>\n",
       "    <tr>\n",
       "      <th>4</th>\n",
       "      <td>5</td>\n",
       "      <td>208</td>\n",
       "      <td>710</td>\n",
       "    </tr>\n",
       "  </tbody>\n",
       "</table>\n",
       "</div>"
      ],
      "text/plain": [
       "   datasrno  workex  gmat\n",
       "0         1      21   720\n",
       "1         2     107   640\n",
       "2         3      57   740\n",
       "3         4      99   690\n",
       "4         5     208   710"
      ]
     },
     "execution_count": 48,
     "metadata": {},
     "output_type": "execute_result"
    }
   ],
   "source": [
    "df.head()"
   ]
  },
  {
   "cell_type": "code",
   "execution_count": 45,
   "id": "d0d73174",
   "metadata": {},
   "outputs": [
    {
     "data": {
      "text/plain": [
       "datasrno    -1.200000\n",
       "workex      13.404732\n",
       "gmat         1.167164\n",
       "dtype: float64"
      ]
     },
     "execution_count": 45,
     "metadata": {},
     "output_type": "execute_result"
    }
   ],
   "source": [
    "df.kurt() # kurtosis of whole dataset"
   ]
  },
  {
   "cell_type": "code",
   "execution_count": 46,
   "id": "c3de817e",
   "metadata": {
    "scrolled": true
   },
   "outputs": [
    {
     "data": {
      "text/plain": [
       "1.167164158069025"
      ]
     },
     "execution_count": 46,
     "metadata": {},
     "output_type": "execute_result"
    }
   ],
   "source": [
    "df['gmat'].kurt() #kurtosis of gmat column"
   ]
  },
  {
   "cell_type": "code",
   "execution_count": 65,
   "id": "be157e5d",
   "metadata": {},
   "outputs": [
    {
     "data": {
      "text/html": [
       "<div>\n",
       "<style scoped>\n",
       "    .dataframe tbody tr th:only-of-type {\n",
       "        vertical-align: middle;\n",
       "    }\n",
       "\n",
       "    .dataframe tbody tr th {\n",
       "        vertical-align: top;\n",
       "    }\n",
       "\n",
       "    .dataframe thead th {\n",
       "        text-align: right;\n",
       "    }\n",
       "</style>\n",
       "<table border=\"1\" class=\"dataframe\">\n",
       "  <thead>\n",
       "    <tr style=\"text-align: right;\">\n",
       "      <th></th>\n",
       "      <th>MPG</th>\n",
       "      <th>CYL</th>\n",
       "      <th>ENG</th>\n",
       "      <th>WGT</th>\n",
       "    </tr>\n",
       "  </thead>\n",
       "  <tbody>\n",
       "    <tr>\n",
       "      <th>1</th>\n",
       "      <td>15</td>\n",
       "      <td>8.0</td>\n",
       "      <td>350.0</td>\n",
       "      <td>3693.0</td>\n",
       "    </tr>\n",
       "    <tr>\n",
       "      <th>2</th>\n",
       "      <td>18</td>\n",
       "      <td>8.0</td>\n",
       "      <td>318.0</td>\n",
       "      <td>3436.0</td>\n",
       "    </tr>\n",
       "    <tr>\n",
       "      <th>3</th>\n",
       "      <td>16</td>\n",
       "      <td>8.0</td>\n",
       "      <td>304.0</td>\n",
       "      <td>3433.0</td>\n",
       "    </tr>\n",
       "    <tr>\n",
       "      <th>4</th>\n",
       "      <td>17</td>\n",
       "      <td>8.0</td>\n",
       "      <td>302.0</td>\n",
       "      <td>3449.0</td>\n",
       "    </tr>\n",
       "    <tr>\n",
       "      <th>5</th>\n",
       "      <td>15</td>\n",
       "      <td>8.0</td>\n",
       "      <td>429.0</td>\n",
       "      <td>4341.0</td>\n",
       "    </tr>\n",
       "  </tbody>\n",
       "</table>\n",
       "</div>"
      ],
      "text/plain": [
       "   MPG  CYL    ENG     WGT\n",
       "1   15  8.0  350.0  3693.0\n",
       "2   18  8.0  318.0  3436.0\n",
       "3   16  8.0  304.0  3433.0\n",
       "4   17  8.0  302.0  3449.0\n",
       "5   15  8.0  429.0  4341.0"
      ]
     },
     "execution_count": 65,
     "metadata": {},
     "output_type": "execute_result"
    }
   ],
   "source": [
    "\"\"\"correlation---it states the relationship between  two continious  type of variable one is dependent and another independent.\n",
    "\n",
    "types\n",
    "cross correlation--two different varible--mpg fuel--corr=x*y\n",
    "auto correlation--explains the relationship between two diffrenet properties of a variable.\n",
    "auto corr=x*x....ex---student--academic and spports\n",
    "\n",
    "+ve --  >0\n",
    "-ve--  <0\n",
    "no correlation==0\"\"\"\n",
    "\n",
    "\n",
    "import pandas as pd\n",
    "df=pd.read_csv(r\"E:\\DebugShala\\Machine learning\\2 EDA_Basics_of_stats\\cars.csv\")\n",
    "\n",
    "df = df.iloc[1:20,:-1]\n",
    "df.head()"
   ]
  },
  {
   "cell_type": "code",
   "execution_count": 66,
   "id": "3c7ce820",
   "metadata": {},
   "outputs": [
    {
     "name": "stdout",
     "output_type": "stream",
     "text": [
      "0.9154152681385732\n",
      "-0.9502717570574784\n"
     ]
    },
    {
     "data": {
      "text/html": [
       "<div>\n",
       "<style scoped>\n",
       "    .dataframe tbody tr th:only-of-type {\n",
       "        vertical-align: middle;\n",
       "    }\n",
       "\n",
       "    .dataframe tbody tr th {\n",
       "        vertical-align: top;\n",
       "    }\n",
       "\n",
       "    .dataframe thead th {\n",
       "        text-align: right;\n",
       "    }\n",
       "</style>\n",
       "<table border=\"1\" class=\"dataframe\">\n",
       "  <thead>\n",
       "    <tr style=\"text-align: right;\">\n",
       "      <th></th>\n",
       "      <th>MPG</th>\n",
       "      <th>CYL</th>\n",
       "      <th>ENG</th>\n",
       "      <th>WGT</th>\n",
       "    </tr>\n",
       "  </thead>\n",
       "  <tbody>\n",
       "    <tr>\n",
       "      <th>MPG</th>\n",
       "      <td>1.000000</td>\n",
       "      <td>-0.950272</td>\n",
       "      <td>-0.941225</td>\n",
       "      <td>-0.887453</td>\n",
       "    </tr>\n",
       "    <tr>\n",
       "      <th>CYL</th>\n",
       "      <td>-0.950272</td>\n",
       "      <td>1.000000</td>\n",
       "      <td>0.915415</td>\n",
       "      <td>0.873157</td>\n",
       "    </tr>\n",
       "    <tr>\n",
       "      <th>ENG</th>\n",
       "      <td>-0.941225</td>\n",
       "      <td>0.915415</td>\n",
       "      <td>1.000000</td>\n",
       "      <td>0.917933</td>\n",
       "    </tr>\n",
       "    <tr>\n",
       "      <th>WGT</th>\n",
       "      <td>-0.887453</td>\n",
       "      <td>0.873157</td>\n",
       "      <td>0.917933</td>\n",
       "      <td>1.000000</td>\n",
       "    </tr>\n",
       "  </tbody>\n",
       "</table>\n",
       "</div>"
      ],
      "text/plain": [
       "          MPG       CYL       ENG       WGT\n",
       "MPG  1.000000 -0.950272 -0.941225 -0.887453\n",
       "CYL -0.950272  1.000000  0.915415  0.873157\n",
       "ENG -0.941225  0.915415  1.000000  0.917933\n",
       "WGT -0.887453  0.873157  0.917933  1.000000"
      ]
     },
     "execution_count": 66,
     "metadata": {},
     "output_type": "execute_result"
    }
   ],
   "source": [
    "print(df.CYL.corr(df.ENG))#postive\n",
    "print(df.CYL.corr(df.MPG))#negative\n",
    "df.corr()"
   ]
  },
  {
   "cell_type": "code",
   "execution_count": 63,
   "id": "e87030a4",
   "metadata": {},
   "outputs": [
    {
     "data": {
      "text/plain": [
       "[<matplotlib.lines.Line2D at 0x1e2c1bc7dd0>]"
      ]
     },
     "execution_count": 63,
     "metadata": {},
     "output_type": "execute_result"
    },
    {
     "data": {
      "image/png": "[encoded data removed]",
      "text/plain": [
       "<Figure size 640x480 with 1 Axes>"
      ]
     },
     "metadata": {},
     "output_type": "display_data"
    }
   ],
   "source": [
    "T=df['CYL']\n",
    "T\n",
    "\n",
    "S=df['ENG']\n",
    "S\n",
    "import matplotlib.pyplot as plt\n",
    "plt.plot(T,S)"
   ]
  },
  {
   "cell_type": "code",
   "execution_count": null,
   "id": "6bd01fc7",
   "metadata": {},
   "outputs": [],
   "source": []
  }
 ],
 "metadata": {
  "kernelspec": {
   "display_name": "Python 3 (ipykernel)",
   "language": "python",
   "name": "python3"
  },
  "language_info": {
   "codemirror_mode": {
    "name": "ipython",
    "version": 3
   },
   "file_extension": ".py",
   "mimetype": "text/x-python",
   "name": "python",
   "nbconvert_exporter": "python",
   "pygments_lexer": "ipython3",
   "version": "3.11.5"
  }
 },
 "nbformat": 4,
 "nbformat_minor": 5
}
