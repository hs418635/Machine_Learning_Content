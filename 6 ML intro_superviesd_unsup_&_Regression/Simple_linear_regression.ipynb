{
 "cells": [
  {
   "cell_type": "markdown",
   "id": "ea4ac088",
   "metadata": {},
   "source": [
    "### Hypothesis\n",
    "\n",
    "What will be the atipose tissue rate if waist size=28 ?"
   ]
  },
  {
   "cell_type": "code",
   "execution_count": 53,
   "id": "c0f68464",
   "metadata": {},
   "outputs": [
    {
     "data": {
      "text/html": [
       "<div>\n",
       "<style scoped>\n",
       "    .dataframe tbody tr th:only-of-type {\n",
       "        vertical-align: middle;\n",
       "    }\n",
       "\n",
       "    .dataframe tbody tr th {\n",
       "        vertical-align: top;\n",
       "    }\n",
       "\n",
       "    .dataframe thead th {\n",
       "        text-align: right;\n",
       "    }\n",
       "</style>\n",
       "<table border=\"1\" class=\"dataframe\">\n",
       "  <thead>\n",
       "    <tr style=\"text-align: right;\">\n",
       "      <th></th>\n",
       "      <th>Waist</th>\n",
       "      <th>AT</th>\n",
       "    </tr>\n",
       "  </thead>\n",
       "  <tbody>\n",
       "    <tr>\n",
       "      <th>0</th>\n",
       "      <td>74.75</td>\n",
       "      <td>25.72</td>\n",
       "    </tr>\n",
       "    <tr>\n",
       "      <th>1</th>\n",
       "      <td>72.60</td>\n",
       "      <td>25.89</td>\n",
       "    </tr>\n",
       "    <tr>\n",
       "      <th>2</th>\n",
       "      <td>81.80</td>\n",
       "      <td>42.60</td>\n",
       "    </tr>\n",
       "    <tr>\n",
       "      <th>3</th>\n",
       "      <td>83.95</td>\n",
       "      <td>42.80</td>\n",
       "    </tr>\n",
       "    <tr>\n",
       "      <th>4</th>\n",
       "      <td>74.65</td>\n",
       "      <td>29.84</td>\n",
       "    </tr>\n",
       "    <tr>\n",
       "      <th>...</th>\n",
       "      <td>...</td>\n",
       "      <td>...</td>\n",
       "    </tr>\n",
       "    <tr>\n",
       "      <th>104</th>\n",
       "      <td>100.10</td>\n",
       "      <td>124.00</td>\n",
       "    </tr>\n",
       "    <tr>\n",
       "      <th>105</th>\n",
       "      <td>93.30</td>\n",
       "      <td>62.20</td>\n",
       "    </tr>\n",
       "    <tr>\n",
       "      <th>106</th>\n",
       "      <td>101.80</td>\n",
       "      <td>133.00</td>\n",
       "    </tr>\n",
       "    <tr>\n",
       "      <th>107</th>\n",
       "      <td>107.90</td>\n",
       "      <td>208.00</td>\n",
       "    </tr>\n",
       "    <tr>\n",
       "      <th>108</th>\n",
       "      <td>108.50</td>\n",
       "      <td>208.00</td>\n",
       "    </tr>\n",
       "  </tbody>\n",
       "</table>\n",
       "<p>109 rows × 2 columns</p>\n",
       "</div>"
      ],
      "text/plain": [
       "      Waist      AT\n",
       "0     74.75   25.72\n",
       "1     72.60   25.89\n",
       "2     81.80   42.60\n",
       "3     83.95   42.80\n",
       "4     74.65   29.84\n",
       "..      ...     ...\n",
       "104  100.10  124.00\n",
       "105   93.30   62.20\n",
       "106  101.80  133.00\n",
       "107  107.90  208.00\n",
       "108  108.50  208.00\n",
       "\n",
       "[109 rows x 2 columns]"
      ]
     },
     "execution_count": 53,
     "metadata": {},
     "output_type": "execute_result"
    }
   ],
   "source": [
    "import pandas as pd\n",
    "\n",
    "df = pd.read_csv(r\"E:\\DebugShala\\Machine learning\\6 ML intro_superviesd_unsup_&_Regression\\wc-at.csv\")\n",
    "df"
   ]
  },
  {
   "cell_type": "markdown",
   "id": "22226297",
   "metadata": {},
   "source": [
    "### Pre-Processing"
   ]
  },
  {
   "cell_type": "code",
   "execution_count": 54,
   "id": "cb939cdb",
   "metadata": {
    "scrolled": true
   },
   "outputs": [
    {
     "data": {
      "text/plain": [
       "Waist    0\n",
       "AT       0\n",
       "dtype: int64"
      ]
     },
     "execution_count": 54,
     "metadata": {},
     "output_type": "execute_result"
    }
   ],
   "source": [
    "df.isna().sum()"
   ]
  },
  {
   "cell_type": "code",
   "execution_count": 55,
   "id": "ca02e455",
   "metadata": {
    "scrolled": true
   },
   "outputs": [
    {
     "name": "stdout",
     "output_type": "stream",
     "text": [
      "<class 'pandas.core.frame.DataFrame'>\n",
      "RangeIndex: 109 entries, 0 to 108\n",
      "Data columns (total 2 columns):\n",
      " #   Column  Non-Null Count  Dtype  \n",
      "---  ------  --------------  -----  \n",
      " 0   Waist   109 non-null    float64\n",
      " 1   AT      109 non-null    float64\n",
      "dtypes: float64(2)\n",
      "memory usage: 1.8 KB\n"
     ]
    }
   ],
   "source": [
    "df.info()"
   ]
  },
  {
   "cell_type": "markdown",
   "id": "07ddc0fb",
   "metadata": {},
   "source": [
    "1) there is no null value so no need to fill\n",
    "2) ther is no string or text so need need to convert into numeric .. LabelEncoder not needed\n",
    "3) values are already small so no need to scale down using MinMaxScaler"
   ]
  },
  {
   "cell_type": "code",
   "execution_count": 56,
   "id": "a109a4d5",
   "metadata": {},
   "outputs": [],
   "source": [
    "# splitting into train test\n",
    "\n",
    "from sklearn.model_selection import train_test_split\n",
    "\n",
    "train,test = train_test_split(df,train_size=0.8)"
   ]
  },
  {
   "cell_type": "code",
   "execution_count": 57,
   "id": "c12446d5",
   "metadata": {},
   "outputs": [
    {
     "data": {
      "text/plain": [
       "(109, 2)"
      ]
     },
     "execution_count": 57,
     "metadata": {},
     "output_type": "execute_result"
    }
   ],
   "source": [
    "df.shape"
   ]
  },
  {
   "cell_type": "code",
   "execution_count": 58,
   "id": "3963b839",
   "metadata": {},
   "outputs": [
    {
     "data": {
      "text/plain": [
       "(87, 2)"
      ]
     },
     "execution_count": 58,
     "metadata": {},
     "output_type": "execute_result"
    }
   ],
   "source": [
    "train.shape"
   ]
  },
  {
   "cell_type": "code",
   "execution_count": 59,
   "id": "6d112a2c",
   "metadata": {},
   "outputs": [
    {
     "data": {
      "text/plain": [
       "(22, 2)"
      ]
     },
     "execution_count": 59,
     "metadata": {},
     "output_type": "execute_result"
    }
   ],
   "source": [
    "test.shape"
   ]
  },
  {
   "cell_type": "code",
   "execution_count": 60,
   "id": "c857e6d7",
   "metadata": {},
   "outputs": [],
   "source": [
    "train_x = train.iloc[:,:1] #independent variable ---> feature\n",
    "train_y = train.iloc[:,1] #dependent variable ---> target"
   ]
  },
  {
   "cell_type": "code",
   "execution_count": 61,
   "id": "b5dde088",
   "metadata": {},
   "outputs": [
    {
     "data": {
      "text/plain": [
       "(87, 1)"
      ]
     },
     "execution_count": 61,
     "metadata": {},
     "output_type": "execute_result"
    }
   ],
   "source": [
    "train_x.shape"
   ]
  },
  {
   "cell_type": "code",
   "execution_count": 62,
   "id": "be4bc404",
   "metadata": {},
   "outputs": [
    {
     "data": {
      "text/plain": [
       "(87,)"
      ]
     },
     "execution_count": 62,
     "metadata": {},
     "output_type": "execute_result"
    }
   ],
   "source": [
    "train_y.shape"
   ]
  },
  {
   "cell_type": "code",
   "execution_count": 63,
   "id": "7d41907c",
   "metadata": {},
   "outputs": [],
   "source": [
    "test_x = test.iloc[:,:1] #independent variable\n",
    "test_y = test.iloc[:,1] #dependent variable"
   ]
  },
  {
   "cell_type": "code",
   "execution_count": 64,
   "id": "0097ebe3",
   "metadata": {},
   "outputs": [
    {
     "data": {
      "text/plain": [
       "(22, 1)"
      ]
     },
     "execution_count": 64,
     "metadata": {},
     "output_type": "execute_result"
    }
   ],
   "source": [
    "test_x.shape"
   ]
  },
  {
   "cell_type": "code",
   "execution_count": 65,
   "id": "f9f8ffcc",
   "metadata": {},
   "outputs": [
    {
     "data": {
      "text/plain": [
       "(22,)"
      ]
     },
     "execution_count": 65,
     "metadata": {},
     "output_type": "execute_result"
    }
   ],
   "source": [
    "test_y.shape"
   ]
  },
  {
   "cell_type": "markdown",
   "id": "38838f2a",
   "metadata": {},
   "source": [
    "### Simple Linear regression"
   ]
  },
  {
   "cell_type": "code",
   "execution_count": 66,
   "id": "372b0c2e",
   "metadata": {},
   "outputs": [],
   "source": [
    "from sklearn.linear_model import LinearRegression"
   ]
  },
  {
   "cell_type": "code",
   "execution_count": 67,
   "id": "a4b4377e",
   "metadata": {},
   "outputs": [],
   "source": [
    "slr = LinearRegression().fit(train_x,train_y)\n",
    "prd = slr.predict(test_x)"
   ]
  },
  {
   "cell_type": "code",
   "execution_count": 68,
   "id": "17b45135",
   "metadata": {
    "scrolled": true
   },
   "outputs": [
    {
     "data": {
      "text/plain": [
       "array([110.81661646, 158.30448206, 151.57112798, 200.83092887,\n",
       "        19.9163364 ,  40.82517275,  41.71114039, 110.81661646,\n",
       "       148.02725742, 101.95694004,  80.69371663,  30.5479481 ,\n",
       "        37.45849571,  50.92520387,  44.9006239 ,  35.33217337,\n",
       "       165.74661025, 133.85177515, 126.76403401,  61.20242851,\n",
       "       160.4308044 , 110.81661646])"
      ]
     },
     "execution_count": 68,
     "metadata": {},
     "output_type": "execute_result"
    }
   ],
   "source": [
    "prd"
   ]
  },
  {
   "cell_type": "code",
   "execution_count": 69,
   "id": "b4fec2d1",
   "metadata": {},
   "outputs": [
    {
     "data": {
      "text/plain": [
       "93      80.95\n",
       "107    208.00\n",
       "96     241.00\n",
       "65     106.00\n",
       "15      55.78\n",
       "0       25.72\n",
       "11      43.86\n",
       "35     121.00\n",
       "95     125.00\n",
       "25      70.40\n",
       "28      78.89\n",
       "5       21.68\n",
       "18      43.35\n",
       "60      57.05\n",
       "19      29.31\n",
       "9       32.22\n",
       "81     126.00\n",
       "103    188.00\n",
       "97     134.00\n",
       "27      84.30\n",
       "87     159.00\n",
       "47     123.00\n",
       "Name: AT, dtype: float64"
      ]
     },
     "execution_count": 69,
     "metadata": {},
     "output_type": "execute_result"
    }
   ],
   "source": [
    "test_y"
   ]
  },
  {
   "cell_type": "markdown",
   "id": "c5d84f7e",
   "metadata": {},
   "source": [
    "In the predicted output we have not much clarity \n",
    "\n",
    "so we will now use formula for simple linear regression\n",
    "\n",
    "y = b0 + b1*x"
   ]
  },
  {
   "cell_type": "code",
   "execution_count": 70,
   "id": "5bce2abb",
   "metadata": {},
   "outputs": [
    {
     "data": {
      "text/plain": [
       "-224.0791521735932"
      ]
     },
     "execution_count": 70,
     "metadata": {},
     "output_type": "execute_result"
    }
   ],
   "source": [
    "# getting intercept value, this value is given by python according to the data\n",
    "slr.intercept_#b0"
   ]
  },
  {
   "cell_type": "code",
   "execution_count": 71,
   "id": "e313c628",
   "metadata": {},
   "outputs": [
    {
     "data": {
      "text/plain": [
       "array([3.54387057])"
      ]
     },
     "execution_count": 71,
     "metadata": {},
     "output_type": "execute_result"
    }
   ],
   "source": [
    "# getting slope or coefficient value b1\n",
    "slr.coef_#b1"
   ]
  },
  {
   "cell_type": "code",
   "execution_count": 72,
   "id": "a6ce165e",
   "metadata": {},
   "outputs": [],
   "source": [
    "#now calculating the adiopose tissue(AT) ,for wait size = 28\n",
    "# AT = b0 + b1*x\n",
    "AT = -196.051 + (3.230*28)"
   ]
  },
  {
   "cell_type": "code",
   "execution_count": 73,
   "id": "e4c9f761",
   "metadata": {},
   "outputs": [
    {
     "data": {
      "text/plain": [
       "-105.61099999999999"
      ]
     },
     "execution_count": 73,
     "metadata": {},
     "output_type": "execute_result"
    }
   ],
   "source": [
    "AT # according to the data it is giving output as negative"
   ]
  },
  {
   "cell_type": "markdown",
   "id": "0b97fab5",
   "metadata": {},
   "source": [
    "### Using root mean square error (rmse)\n",
    "\n",
    "rmse ---> used to find the variation according to the given value eg. for -105\n",
    "\n",
    "we are checking that how much accurate is the value of predicted Adipose tissue AT"
   ]
  },
  {
   "cell_type": "code",
   "execution_count": 74,
   "id": "003afb38",
   "metadata": {},
   "outputs": [
    {
     "name": "stdout",
     "output_type": "stream",
     "text": [
      "rmse: 1.4119523086254517\n"
     ]
    }
   ],
   "source": [
    "# rmse\n",
    "\n",
    "import numpy as np\n",
    "print(\"rmse:\",np.sqrt(np.mean(prd-test_y)**2))\n",
    "# this is the formula for rmse"
   ]
  },
  {
   "cell_type": "code",
   "execution_count": null,
   "id": "ea63205b",
   "metadata": {},
   "outputs": [],
   "source": []
  },
  {
   "cell_type": "code",
   "execution_count": null,
   "id": "2d31d5df",
   "metadata": {},
   "outputs": [],
   "source": []
  }
 ],
 "metadata": {
  "kernelspec": {
   "display_name": "Python 3 (ipykernel)",
   "language": "python",
   "name": "python3"
  },
  "language_info": {
   "codemirror_mode": {
    "name": "ipython",
    "version": 3
   },
   "file_extension": ".py",
   "mimetype": "text/x-python",
   "name": "python",
   "nbconvert_exporter": "python",
   "pygments_lexer": "ipython3",
   "version": "3.11.5"
  }
 },
 "nbformat": 4,
 "nbformat_minor": 5
}
