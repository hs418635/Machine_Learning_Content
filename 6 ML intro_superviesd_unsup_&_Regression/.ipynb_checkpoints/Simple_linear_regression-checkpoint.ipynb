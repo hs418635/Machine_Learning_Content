{
 "cells": [
  {
   "cell_type": "markdown",
   "id": "ea4ac088",
   "metadata": {},
   "source": [
    "### Hypothesis\n",
    "\n",
    "What will be the atipose tissue rate if waist size=28 ?"
   ]
  },
  {
   "cell_type": "code",
   "execution_count": 6,
   "id": "c0f68464",
   "metadata": {},
   "outputs": [
    {
     "data": {
      "text/html": [
       "<div>\n",
       "<style scoped>\n",
       "    .dataframe tbody tr th:only-of-type {\n",
       "        vertical-align: middle;\n",
       "    }\n",
       "\n",
       "    .dataframe tbody tr th {\n",
       "        vertical-align: top;\n",
       "    }\n",
       "\n",
       "    .dataframe thead th {\n",
       "        text-align: right;\n",
       "    }\n",
       "</style>\n",
       "<table border=\"1\" class=\"dataframe\">\n",
       "  <thead>\n",
       "    <tr style=\"text-align: right;\">\n",
       "      <th></th>\n",
       "      <th>Waist</th>\n",
       "      <th>AT</th>\n",
       "    </tr>\n",
       "  </thead>\n",
       "  <tbody>\n",
       "    <tr>\n",
       "      <th>0</th>\n",
       "      <td>74.75</td>\n",
       "      <td>25.72</td>\n",
       "    </tr>\n",
       "    <tr>\n",
       "      <th>1</th>\n",
       "      <td>72.60</td>\n",
       "      <td>25.89</td>\n",
       "    </tr>\n",
       "    <tr>\n",
       "      <th>2</th>\n",
       "      <td>81.80</td>\n",
       "      <td>42.60</td>\n",
       "    </tr>\n",
       "    <tr>\n",
       "      <th>3</th>\n",
       "      <td>83.95</td>\n",
       "      <td>42.80</td>\n",
       "    </tr>\n",
       "    <tr>\n",
       "      <th>4</th>\n",
       "      <td>74.65</td>\n",
       "      <td>29.84</td>\n",
       "    </tr>\n",
       "  </tbody>\n",
       "</table>\n",
       "</div>"
      ],
      "text/plain": [
       "   Waist     AT\n",
       "0  74.75  25.72\n",
       "1  72.60  25.89\n",
       "2  81.80  42.60\n",
       "3  83.95  42.80\n",
       "4  74.65  29.84"
      ]
     },
     "execution_count": 6,
     "metadata": {},
     "output_type": "execute_result"
    }
   ],
   "source": [
    "import pandas as pd\n",
    "\n",
    "df = pd.read_csv(r\"E:\\DebugShala\\Machine learning\\6 ML intro_superviesd_unsup_&_Regression\\wc-at.csv\")\n",
    "df.head()"
   ]
  },
  {
   "cell_type": "markdown",
   "id": "22226297",
   "metadata": {},
   "source": [
    "### Pre-Processing"
   ]
  },
  {
   "cell_type": "code",
   "execution_count": 7,
   "id": "cb939cdb",
   "metadata": {
    "scrolled": true
   },
   "outputs": [
    {
     "data": {
      "text/plain": [
       "Waist    0\n",
       "AT       0\n",
       "dtype: int64"
      ]
     },
     "execution_count": 7,
     "metadata": {},
     "output_type": "execute_result"
    }
   ],
   "source": [
    "df.isna().sum()"
   ]
  },
  {
   "cell_type": "code",
   "execution_count": 8,
   "id": "ca02e455",
   "metadata": {
    "scrolled": true
   },
   "outputs": [
    {
     "name": "stdout",
     "output_type": "stream",
     "text": [
      "<class 'pandas.core.frame.DataFrame'>\n",
      "RangeIndex: 109 entries, 0 to 108\n",
      "Data columns (total 2 columns):\n",
      " #   Column  Non-Null Count  Dtype  \n",
      "---  ------  --------------  -----  \n",
      " 0   Waist   109 non-null    float64\n",
      " 1   AT      109 non-null    float64\n",
      "dtypes: float64(2)\n",
      "memory usage: 1.8 KB\n"
     ]
    }
   ],
   "source": [
    "df.info()"
   ]
  },
  {
   "cell_type": "markdown",
   "id": "07ddc0fb",
   "metadata": {},
   "source": [
    "1) there is no null value so no need to fill\n",
    "2) ther is no string or text so need need to convert into numeric .. LabelEncoder not needed\n",
    "3) values are already small so no need to scale down using MinMaxScaler"
   ]
  },
  {
   "cell_type": "code",
   "execution_count": 12,
   "id": "a109a4d5",
   "metadata": {},
   "outputs": [],
   "source": [
    "# splitting into train test\n",
    "\n",
    "from sklearn.model_selection import train_test_split\n",
    "\n",
    "train,test = train_test_split(df,train_size=0.8)"
   ]
  },
  {
   "cell_type": "code",
   "execution_count": 13,
   "id": "c12446d5",
   "metadata": {},
   "outputs": [
    {
     "data": {
      "text/plain": [
       "(109, 2)"
      ]
     },
     "execution_count": 13,
     "metadata": {},
     "output_type": "execute_result"
    }
   ],
   "source": [
    "df.shape"
   ]
  },
  {
   "cell_type": "code",
   "execution_count": 14,
   "id": "3963b839",
   "metadata": {},
   "outputs": [
    {
     "data": {
      "text/plain": [
       "(87, 2)"
      ]
     },
     "execution_count": 14,
     "metadata": {},
     "output_type": "execute_result"
    }
   ],
   "source": [
    "train.shape"
   ]
  },
  {
   "cell_type": "code",
   "execution_count": 15,
   "id": "6d112a2c",
   "metadata": {},
   "outputs": [
    {
     "data": {
      "text/plain": [
       "(22, 2)"
      ]
     },
     "execution_count": 15,
     "metadata": {},
     "output_type": "execute_result"
    }
   ],
   "source": [
    "test.shape"
   ]
  },
  {
   "cell_type": "code",
   "execution_count": 24,
   "id": "c857e6d7",
   "metadata": {},
   "outputs": [],
   "source": [
    "train_x = train.iloc[:,:1] #dependent variable ---> target\n",
    "train_y = train.iloc[:,1] #independent variable ---> features"
   ]
  },
  {
   "cell_type": "code",
   "execution_count": 25,
   "id": "7d41907c",
   "metadata": {},
   "outputs": [],
   "source": [
    "test_x = test.iloc[:,:1] #dependent variable\n",
    "test_y = test.iloc[:,1] #independent variable"
   ]
  },
  {
   "cell_type": "markdown",
   "id": "38838f2a",
   "metadata": {},
   "source": [
    "### Simple Linear regression"
   ]
  },
  {
   "cell_type": "code",
   "execution_count": 50,
   "id": "372b0c2e",
   "metadata": {},
   "outputs": [],
   "source": [
    "from sklearn.linear_model import LinearRegression"
   ]
  },
  {
   "cell_type": "code",
   "execution_count": 51,
   "id": "a4b4377e",
   "metadata": {},
   "outputs": [],
   "source": [
    "slr = LinearRegression().fit(train_x,train_y)\n",
    "prd = slr.predict(test_x)"
   ]
  },
  {
   "cell_type": "code",
   "execution_count": 52,
   "id": "17b45135",
   "metadata": {},
   "outputs": [
    {
     "data": {
      "text/plain": [
       "array([152.81749264,  97.25691625,  92.08849054,  65.27728216,\n",
       "       120.51483195, 109.2089007 ,  57.20161699, 154.43262568,\n",
       "       165.73855692, 101.13323553,  70.44570787, 126.97536409,\n",
       "        74.64505376,  63.98517573,  45.41114583,  62.04701609,\n",
       "       123.74509802,  68.83057484,  59.13977663, 130.20563016,\n",
       "       115.66943284, 109.2089007 ])"
      ]
     },
     "execution_count": 52,
     "metadata": {},
     "output_type": "execute_result"
    }
   ],
   "source": [
    "prd"
   ]
  },
  {
   "cell_type": "markdown",
   "id": "c5d84f7e",
   "metadata": {},
   "source": [
    "In the predicted output we have not much clarity \n",
    "\n",
    "so we will now use formula for simple linear regression\n",
    "\n",
    "y = b0 + b1*x"
   ]
  },
  {
   "cell_type": "code",
   "execution_count": 53,
   "id": "5bce2abb",
   "metadata": {},
   "outputs": [
    {
     "data": {
      "text/plain": [
       "-196.05124285786266"
      ]
     },
     "execution_count": 53,
     "metadata": {},
     "output_type": "execute_result"
    }
   ],
   "source": [
    "# getting intercept value, this value is given by python according to the data\n",
    "slr.intercept_#b0"
   ]
  },
  {
   "cell_type": "code",
   "execution_count": 54,
   "id": "e313c628",
   "metadata": {},
   "outputs": [
    {
     "data": {
      "text/plain": [
       "array([3.23026607])"
      ]
     },
     "execution_count": 54,
     "metadata": {},
     "output_type": "execute_result"
    }
   ],
   "source": [
    "# getting slope or coefficient value b1\n",
    "slr.coef_#b1"
   ]
  },
  {
   "cell_type": "code",
   "execution_count": 55,
   "id": "a6ce165e",
   "metadata": {},
   "outputs": [],
   "source": [
    "#now calculating the adiopose tissue(AT) ,for wait size = 28\n",
    "# AT = b0 + b1*x\n",
    "AT = -196.051 + (3.230*28)"
   ]
  },
  {
   "cell_type": "code",
   "execution_count": 56,
   "id": "e4c9f761",
   "metadata": {},
   "outputs": [
    {
     "data": {
      "text/plain": [
       "-105.61099999999999"
      ]
     },
     "execution_count": 56,
     "metadata": {},
     "output_type": "execute_result"
    }
   ],
   "source": [
    "AT # according to the data it is giving output as negative"
   ]
  },
  {
   "cell_type": "markdown",
   "id": "0b97fab5",
   "metadata": {},
   "source": [
    "### Using root mean square error (rmse)\n",
    "\n",
    "rmse ---> used to find the variation according to the given value eg. for -105\n",
    "\n",
    "we are checking that how much accurate is the value of predicted Adipose tissue AT"
   ]
  },
  {
   "cell_type": "code",
   "execution_count": 62,
   "id": "003afb38",
   "metadata": {},
   "outputs": [
    {
     "name": "stdout",
     "output_type": "stream",
     "text": [
      "rmse: 5.340507913213176\n"
     ]
    }
   ],
   "source": [
    "# rmse\n",
    "\n",
    "import numpy as np\n",
    "print(\"rmse:\",np.sqrt(np.mean(prd-test_y)**2))\n",
    "# this is the formula for rmse"
   ]
  },
  {
   "cell_type": "code",
   "execution_count": null,
   "id": "ea63205b",
   "metadata": {},
   "outputs": [],
   "source": []
  }
 ],
 "metadata": {
  "kernelspec": {
   "display_name": "Python 3 (ipykernel)",
   "language": "python",
   "name": "python3"
  },
  "language_info": {
   "codemirror_mode": {
    "name": "ipython",
    "version": 3
   },
   "file_extension": ".py",
   "mimetype": "text/x-python",
   "name": "python",
   "nbconvert_exporter": "python",
   "pygments_lexer": "ipython3",
   "version": "3.11.5"
  }
 },
 "nbformat": 4,
 "nbformat_minor": 5
}
