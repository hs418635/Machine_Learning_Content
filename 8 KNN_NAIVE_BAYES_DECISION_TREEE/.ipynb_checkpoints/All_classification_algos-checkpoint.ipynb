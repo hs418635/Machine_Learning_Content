{
 "cells": [
  {
   "cell_type": "code",
   "execution_count": 2,
   "id": "48852f38",
   "metadata": {},
   "outputs": [
    {
     "name": "stderr",
     "output_type": "stream",
     "text": [
      "C:\\Users\\HIMANSHU SURYAVANSHI\\anaconda3\\Lib\\site-packages\\pandas\\core\\arrays\\masked.py:60: UserWarning: Pandas requires version '1.3.6' or newer of 'bottleneck' (version '1.3.5' currently installed).\n",
      "  from pandas.core import (\n"
     ]
    },
    {
     "data": {
      "text/html": [
       "<div>\n",
       "<style scoped>\n",
       "    .dataframe tbody tr th:only-of-type {\n",
       "        vertical-align: middle;\n",
       "    }\n",
       "\n",
       "    .dataframe tbody tr th {\n",
       "        vertical-align: top;\n",
       "    }\n",
       "\n",
       "    .dataframe thead th {\n",
       "        text-align: right;\n",
       "    }\n",
       "</style>\n",
       "<table border=\"1\" class=\"dataframe\">\n",
       "  <thead>\n",
       "    <tr style=\"text-align: right;\">\n",
       "      <th></th>\n",
       "      <th>Age</th>\n",
       "      <th>Workclass</th>\n",
       "      <th>fnlwgt</th>\n",
       "      <th>education</th>\n",
       "      <th>eduction_no</th>\n",
       "      <th>status</th>\n",
       "      <th>occupation</th>\n",
       "      <th>relationship</th>\n",
       "      <th>race</th>\n",
       "      <th>sex</th>\n",
       "      <th>capital_gain</th>\n",
       "      <th>capital_loss</th>\n",
       "      <th>hoursperweek</th>\n",
       "      <th>native country</th>\n",
       "      <th>Salary</th>\n",
       "    </tr>\n",
       "  </thead>\n",
       "  <tbody>\n",
       "    <tr>\n",
       "      <th>0</th>\n",
       "      <td>39.0</td>\n",
       "      <td>State-gov</td>\n",
       "      <td>77516.0</td>\n",
       "      <td>Bachelors</td>\n",
       "      <td>NaN</td>\n",
       "      <td>Never-married</td>\n",
       "      <td>Adm-clerical</td>\n",
       "      <td>Not-in-family</td>\n",
       "      <td>White</td>\n",
       "      <td>Male</td>\n",
       "      <td>2174.0</td>\n",
       "      <td>0.0</td>\n",
       "      <td>40.0</td>\n",
       "      <td>United-States</td>\n",
       "      <td>&lt;=50K</td>\n",
       "    </tr>\n",
       "    <tr>\n",
       "      <th>1</th>\n",
       "      <td>50.0</td>\n",
       "      <td>Self-emp-not-inc</td>\n",
       "      <td>83311.0</td>\n",
       "      <td>Bachelors</td>\n",
       "      <td>13.0</td>\n",
       "      <td>Married-civ-spouse</td>\n",
       "      <td>Exec-managerial</td>\n",
       "      <td>Husband</td>\n",
       "      <td>White</td>\n",
       "      <td>Male</td>\n",
       "      <td>0.0</td>\n",
       "      <td>0.0</td>\n",
       "      <td>13.0</td>\n",
       "      <td>United-States</td>\n",
       "      <td>&lt;=50K</td>\n",
       "    </tr>\n",
       "    <tr>\n",
       "      <th>2</th>\n",
       "      <td>38.0</td>\n",
       "      <td>Private</td>\n",
       "      <td>215646.0</td>\n",
       "      <td>HS-grad</td>\n",
       "      <td>9.0</td>\n",
       "      <td>Divorced</td>\n",
       "      <td>Handlers-cleaners</td>\n",
       "      <td>Not-in-family</td>\n",
       "      <td>White</td>\n",
       "      <td>Male</td>\n",
       "      <td>0.0</td>\n",
       "      <td>0.0</td>\n",
       "      <td>40.0</td>\n",
       "      <td>United-States</td>\n",
       "      <td>&lt;=50K</td>\n",
       "    </tr>\n",
       "    <tr>\n",
       "      <th>3</th>\n",
       "      <td>53.0</td>\n",
       "      <td>Private</td>\n",
       "      <td>234721.0</td>\n",
       "      <td>11th</td>\n",
       "      <td>7.0</td>\n",
       "      <td>Married-civ-spouse</td>\n",
       "      <td>Handlers-cleaners</td>\n",
       "      <td>Husband</td>\n",
       "      <td>Black</td>\n",
       "      <td>Male</td>\n",
       "      <td>0.0</td>\n",
       "      <td>0.0</td>\n",
       "      <td>40.0</td>\n",
       "      <td>United-States</td>\n",
       "      <td>&lt;=50K</td>\n",
       "    </tr>\n",
       "    <tr>\n",
       "      <th>4</th>\n",
       "      <td>28.0</td>\n",
       "      <td>Private</td>\n",
       "      <td>338409.0</td>\n",
       "      <td>Bachelors</td>\n",
       "      <td>13.0</td>\n",
       "      <td>Married-civ-spouse</td>\n",
       "      <td>Prof-specialty</td>\n",
       "      <td>Wife</td>\n",
       "      <td>Black</td>\n",
       "      <td>Female</td>\n",
       "      <td>0.0</td>\n",
       "      <td>0.0</td>\n",
       "      <td>40.0</td>\n",
       "      <td>Cuba</td>\n",
       "      <td>&lt;=50K</td>\n",
       "    </tr>\n",
       "  </tbody>\n",
       "</table>\n",
       "</div>"
      ],
      "text/plain": [
       "    Age          Workclass    fnlwgt   education  eduction_no  \\\n",
       "0  39.0          State-gov   77516.0   Bachelors          NaN   \n",
       "1  50.0   Self-emp-not-inc   83311.0   Bachelors         13.0   \n",
       "2  38.0            Private  215646.0     HS-grad          9.0   \n",
       "3  53.0            Private  234721.0        11th          7.0   \n",
       "4  28.0            Private  338409.0   Bachelors         13.0   \n",
       "\n",
       "                status          occupation    relationship    race      sex  \\\n",
       "0        Never-married        Adm-clerical   Not-in-family   White     Male   \n",
       "1   Married-civ-spouse     Exec-managerial         Husband   White     Male   \n",
       "2             Divorced   Handlers-cleaners   Not-in-family   White     Male   \n",
       "3   Married-civ-spouse   Handlers-cleaners         Husband   Black     Male   \n",
       "4   Married-civ-spouse      Prof-specialty            Wife   Black   Female   \n",
       "\n",
       "   capital_gain  capital_loss  hoursperweek  native country  Salary  \n",
       "0        2174.0           0.0          40.0   United-States   <=50K  \n",
       "1           0.0           0.0          13.0   United-States   <=50K  \n",
       "2           0.0           0.0          40.0   United-States   <=50K  \n",
       "3           0.0           0.0          40.0   United-States   <=50K  \n",
       "4           0.0           0.0          40.0            Cuba   <=50K  "
      ]
     },
     "execution_count": 2,
     "metadata": {},
     "output_type": "execute_result"
    }
   ],
   "source": [
    "import pandas as pd\n",
    "\n",
    "data = pd.read_csv(r\"E:\\DebugShala\\Machine learning\\5 Preprocessing\\adult_salary_dataset.csv\")\n",
    "data.head()"
   ]
  },
  {
   "cell_type": "code",
   "execution_count": 3,
   "id": "b7542795",
   "metadata": {
    "scrolled": true
   },
   "outputs": [
    {
     "data": {
      "text/plain": [
       "<bound method DataFrame.info of         Age          Workclass    fnlwgt      education  eduction_no  \\\n",
       "0      39.0          State-gov   77516.0      Bachelors          NaN   \n",
       "1      50.0   Self-emp-not-inc   83311.0      Bachelors         13.0   \n",
       "2      38.0            Private  215646.0        HS-grad          9.0   \n",
       "3      53.0            Private  234721.0           11th          7.0   \n",
       "4      28.0            Private  338409.0      Bachelors         13.0   \n",
       "...     ...                ...       ...            ...          ...   \n",
       "26441  58.0            Private  205410.0        HS-grad          9.0   \n",
       "26442  64.0       Self-emp-inc  185912.0    Prof-school         15.0   \n",
       "26443  38.0            Private  292570.0   Some-college         10.0   \n",
       "26444  43.0            Private   76460.0        HS-grad          9.0   \n",
       "26445   NaN                NaN       NaN            NaN          NaN   \n",
       "\n",
       "                    status          occupation    relationship    race  \\\n",
       "0            Never-married        Adm-clerical   Not-in-family   White   \n",
       "1       Married-civ-spouse     Exec-managerial         Husband   White   \n",
       "2                 Divorced   Handlers-cleaners   Not-in-family   White   \n",
       "3       Married-civ-spouse   Handlers-cleaners         Husband   Black   \n",
       "4       Married-civ-spouse      Prof-specialty            Wife   Black   \n",
       "...                    ...                 ...             ...     ...   \n",
       "26441   Married-civ-spouse   Machine-op-inspct         Husband   White   \n",
       "26442   Married-civ-spouse      Prof-specialty         Husband   White   \n",
       "26443        Never-married               Sales       Own-child   White   \n",
       "26444        Never-married        Adm-clerical   Not-in-family   White   \n",
       "26445                  NaN                 NaN             NaN     NaN   \n",
       "\n",
       "           sex  capital_gain  capital_loss  hoursperweek  native country  \\\n",
       "0         Male        2174.0           0.0          40.0   United-States   \n",
       "1         Male           0.0           0.0          13.0   United-States   \n",
       "2         Male           0.0           0.0          40.0   United-States   \n",
       "3         Male           0.0           0.0          40.0   United-States   \n",
       "4       Female           0.0           0.0          40.0            Cuba   \n",
       "...        ...           ...           ...           ...             ...   \n",
       "26441     Male           0.0           0.0          40.0   United-States   \n",
       "26442     Male       99999.0           0.0          35.0   United-States   \n",
       "26443   Female           0.0           0.0          50.0   United-States   \n",
       "26444   Female           0.0           0.0          40.0   United-States   \n",
       "26445      NaN           NaN           NaN           NaN             NaN   \n",
       "\n",
       "       Salary  \n",
       "0       <=50K  \n",
       "1       <=50K  \n",
       "2       <=50K  \n",
       "3       <=50K  \n",
       "4       <=50K  \n",
       "...       ...  \n",
       "26441   <=50K  \n",
       "26442    >50K  \n",
       "26443   <=50K  \n",
       "26444   <=50K  \n",
       "26445     NaN  \n",
       "\n",
       "[26446 rows x 15 columns]>"
      ]
     },
     "execution_count": 3,
     "metadata": {},
     "output_type": "execute_result"
    }
   ],
   "source": [
    "data.info "
   ]
  },
  {
   "cell_type": "markdown",
   "id": "43f0d57d",
   "metadata": {},
   "source": [
    "### checking null values"
   ]
  },
  {
   "cell_type": "code",
   "execution_count": 4,
   "id": "99b3db2d",
   "metadata": {
    "scrolled": true
   },
   "outputs": [
    {
     "data": {
      "text/plain": [
       "Age               1\n",
       "Workclass         1\n",
       "fnlwgt            1\n",
       "education         1\n",
       "eduction_no       2\n",
       "status            1\n",
       "occupation        1\n",
       "relationship      1\n",
       "race              1\n",
       "sex               1\n",
       "capital_gain      1\n",
       "capital_loss      1\n",
       "hoursperweek      1\n",
       "native country    1\n",
       "Salary            1\n",
       "dtype: int64"
      ]
     },
     "execution_count": 4,
     "metadata": {},
     "output_type": "execute_result"
    }
   ],
   "source": [
    "data.isna().sum()"
   ]
  },
  {
   "cell_type": "markdown",
   "id": "1eddb76a",
   "metadata": {},
   "source": [
    "### droping the null values\n",
    "#####  when we drop the null values then the whole row is deleted of which you are droping the null value"
   ]
  },
  {
   "cell_type": "code",
   "execution_count": 5,
   "id": "85ba7c8a",
   "metadata": {},
   "outputs": [],
   "source": [
    "df = data.dropna()"
   ]
  },
  {
   "cell_type": "code",
   "execution_count": 6,
   "id": "18b4f7c3",
   "metadata": {},
   "outputs": [
    {
     "data": {
      "text/plain": [
       "Age               0\n",
       "Workclass         0\n",
       "fnlwgt            0\n",
       "education         0\n",
       "eduction_no       0\n",
       "status            0\n",
       "occupation        0\n",
       "relationship      0\n",
       "race              0\n",
       "sex               0\n",
       "capital_gain      0\n",
       "capital_loss      0\n",
       "hoursperweek      0\n",
       "native country    0\n",
       "Salary            0\n",
       "dtype: int64"
      ]
     },
     "execution_count": 6,
     "metadata": {},
     "output_type": "execute_result"
    }
   ],
   "source": [
    "df.isna().sum() # now you can see all the null values has been dropped"
   ]
  },
  {
   "cell_type": "markdown",
   "id": "6bfc2ad0",
   "metadata": {},
   "source": [
    "### Dealing with categorical data"
   ]
  },
  {
   "cell_type": "code",
   "execution_count": 7,
   "id": "1cd88650",
   "metadata": {},
   "outputs": [
    {
     "data": {
      "text/plain": [
       "Index(['Age', 'Workclass', 'fnlwgt', 'education', 'eduction_no', 'status',\n",
       "       'occupation', 'relationship', 'race', 'sex', 'capital_gain',\n",
       "       'capital_loss', 'hoursperweek', 'native country', 'Salary'],\n",
       "      dtype='object')"
      ]
     },
     "execution_count": 7,
     "metadata": {},
     "output_type": "execute_result"
    }
   ],
   "source": [
    "# checking columns\n",
    "df.columns"
   ]
  },
  {
   "cell_type": "code",
   "execution_count": 8,
   "id": "d4ebff7b",
   "metadata": {},
   "outputs": [],
   "source": [
    "from sklearn.preprocessing import LabelEncoder\n",
    "lb = LabelEncoder()"
   ]
  },
  {
   "cell_type": "code",
   "execution_count": 9,
   "id": "10a3361b",
   "metadata": {
    "scrolled": true
   },
   "outputs": [
    {
     "name": "stdout",
     "output_type": "stream",
     "text": [
      "1        39\n",
      "2        39\n",
      "3        39\n",
      "4         5\n",
      "5        39\n",
      "         ..\n",
      "26440    39\n",
      "26441    39\n",
      "26442    39\n",
      "26443    39\n",
      "26444    39\n",
      "Name: native country, Length: 26444, dtype: int32\n"
     ]
    },
    {
     "name": "stderr",
     "output_type": "stream",
     "text": [
      "C:\\Users\\HIMANSHU SURYAVANSHI\\AppData\\Local\\Temp\\ipykernel_8024\\829695647.py:7: SettingWithCopyWarning: \n",
      "A value is trying to be set on a copy of a slice from a DataFrame.\n",
      "Try using .loc[row_indexer,col_indexer] = value instead\n",
      "\n",
      "See the caveats in the documentation: https://pandas.pydata.org/pandas-docs/stable/user_guide/indexing.html#returning-a-view-versus-a-copy\n",
      "  df[i] = lb.fit_transform(df[i])\n",
      "C:\\Users\\HIMANSHU SURYAVANSHI\\AppData\\Local\\Temp\\ipykernel_8024\\829695647.py:7: SettingWithCopyWarning: \n",
      "A value is trying to be set on a copy of a slice from a DataFrame.\n",
      "Try using .loc[row_indexer,col_indexer] = value instead\n",
      "\n",
      "See the caveats in the documentation: https://pandas.pydata.org/pandas-docs/stable/user_guide/indexing.html#returning-a-view-versus-a-copy\n",
      "  df[i] = lb.fit_transform(df[i])\n",
      "C:\\Users\\HIMANSHU SURYAVANSHI\\AppData\\Local\\Temp\\ipykernel_8024\\829695647.py:7: SettingWithCopyWarning: \n",
      "A value is trying to be set on a copy of a slice from a DataFrame.\n",
      "Try using .loc[row_indexer,col_indexer] = value instead\n",
      "\n",
      "See the caveats in the documentation: https://pandas.pydata.org/pandas-docs/stable/user_guide/indexing.html#returning-a-view-versus-a-copy\n",
      "  df[i] = lb.fit_transform(df[i])\n",
      "C:\\Users\\HIMANSHU SURYAVANSHI\\AppData\\Local\\Temp\\ipykernel_8024\\829695647.py:7: SettingWithCopyWarning: \n",
      "A value is trying to be set on a copy of a slice from a DataFrame.\n",
      "Try using .loc[row_indexer,col_indexer] = value instead\n",
      "\n",
      "See the caveats in the documentation: https://pandas.pydata.org/pandas-docs/stable/user_guide/indexing.html#returning-a-view-versus-a-copy\n",
      "  df[i] = lb.fit_transform(df[i])\n",
      "C:\\Users\\HIMANSHU SURYAVANSHI\\AppData\\Local\\Temp\\ipykernel_8024\\829695647.py:7: SettingWithCopyWarning: \n",
      "A value is trying to be set on a copy of a slice from a DataFrame.\n",
      "Try using .loc[row_indexer,col_indexer] = value instead\n",
      "\n",
      "See the caveats in the documentation: https://pandas.pydata.org/pandas-docs/stable/user_guide/indexing.html#returning-a-view-versus-a-copy\n",
      "  df[i] = lb.fit_transform(df[i])\n",
      "C:\\Users\\HIMANSHU SURYAVANSHI\\AppData\\Local\\Temp\\ipykernel_8024\\829695647.py:7: SettingWithCopyWarning: \n",
      "A value is trying to be set on a copy of a slice from a DataFrame.\n",
      "Try using .loc[row_indexer,col_indexer] = value instead\n",
      "\n",
      "See the caveats in the documentation: https://pandas.pydata.org/pandas-docs/stable/user_guide/indexing.html#returning-a-view-versus-a-copy\n",
      "  df[i] = lb.fit_transform(df[i])\n",
      "C:\\Users\\HIMANSHU SURYAVANSHI\\AppData\\Local\\Temp\\ipykernel_8024\\829695647.py:7: SettingWithCopyWarning: \n",
      "A value is trying to be set on a copy of a slice from a DataFrame.\n",
      "Try using .loc[row_indexer,col_indexer] = value instead\n",
      "\n",
      "See the caveats in the documentation: https://pandas.pydata.org/pandas-docs/stable/user_guide/indexing.html#returning-a-view-versus-a-copy\n",
      "  df[i] = lb.fit_transform(df[i])\n",
      "C:\\Users\\HIMANSHU SURYAVANSHI\\AppData\\Local\\Temp\\ipykernel_8024\\829695647.py:7: SettingWithCopyWarning: \n",
      "A value is trying to be set on a copy of a slice from a DataFrame.\n",
      "Try using .loc[row_indexer,col_indexer] = value instead\n",
      "\n",
      "See the caveats in the documentation: https://pandas.pydata.org/pandas-docs/stable/user_guide/indexing.html#returning-a-view-versus-a-copy\n",
      "  df[i] = lb.fit_transform(df[i])\n"
     ]
    }
   ],
   "source": [
    "cat_cols = ['Workclass', 'education', 'status','occupation', 'relationship', 'race', 'sex', 'native country']\n",
    "\n",
    "# using for loop to iterating through all the categorical columns to make them(all the values) into numerical format.\n",
    "# Label encoding is a technique used in machine learning and data analysis to convert categorical variables into numerical format.\n",
    "# The fit_transform() method is used to fit the data into a model and transform it into a form that is more suitable for the model in a single step.\n",
    "for i in cat_cols:\n",
    "    df[i] = lb.fit_transform(df[i])\n",
    "print(df[i])"
   ]
  },
  {
   "cell_type": "markdown",
   "id": "41f36c95",
   "metadata": {},
   "source": [
    "Note :- salary column is categorical column and it is our target variable so no need to preprocess the salary column"
   ]
  },
  {
   "cell_type": "markdown",
   "id": "5e3eed34",
   "metadata": {},
   "source": [
    "### Dealing with Continuous data"
   ]
  },
  {
   "cell_type": "code",
   "execution_count": 10,
   "id": "78e189ca",
   "metadata": {
    "scrolled": true
   },
   "outputs": [
    {
     "name": "stdout",
     "output_type": "stream",
     "text": [
      "1        0.122449\n",
      "2        0.397959\n",
      "3        0.397959\n",
      "4        0.397959\n",
      "5        0.397959\n",
      "           ...   \n",
      "26440    0.397959\n",
      "26441    0.397959\n",
      "26442    0.346939\n",
      "26443    0.500000\n",
      "26444    0.397959\n",
      "Name: hoursperweek, Length: 26444, dtype: float64\n"
     ]
    },
    {
     "name": "stderr",
     "output_type": "stream",
     "text": [
      "C:\\Users\\HIMANSHU SURYAVANSHI\\AppData\\Local\\Temp\\ipykernel_8024\\789665044.py:7: SettingWithCopyWarning: \n",
      "A value is trying to be set on a copy of a slice from a DataFrame.\n",
      "Try using .loc[row_indexer,col_indexer] = value instead\n",
      "\n",
      "See the caveats in the documentation: https://pandas.pydata.org/pandas-docs/stable/user_guide/indexing.html#returning-a-view-versus-a-copy\n",
      "  df[i] = mm.fit_transform(df[i].values.reshape(-1,1))\n",
      "C:\\Users\\HIMANSHU SURYAVANSHI\\AppData\\Local\\Temp\\ipykernel_8024\\789665044.py:7: SettingWithCopyWarning: \n",
      "A value is trying to be set on a copy of a slice from a DataFrame.\n",
      "Try using .loc[row_indexer,col_indexer] = value instead\n",
      "\n",
      "See the caveats in the documentation: https://pandas.pydata.org/pandas-docs/stable/user_guide/indexing.html#returning-a-view-versus-a-copy\n",
      "  df[i] = mm.fit_transform(df[i].values.reshape(-1,1))\n",
      "C:\\Users\\HIMANSHU SURYAVANSHI\\AppData\\Local\\Temp\\ipykernel_8024\\789665044.py:7: SettingWithCopyWarning: \n",
      "A value is trying to be set on a copy of a slice from a DataFrame.\n",
      "Try using .loc[row_indexer,col_indexer] = value instead\n",
      "\n",
      "See the caveats in the documentation: https://pandas.pydata.org/pandas-docs/stable/user_guide/indexing.html#returning-a-view-versus-a-copy\n",
      "  df[i] = mm.fit_transform(df[i].values.reshape(-1,1))\n",
      "C:\\Users\\HIMANSHU SURYAVANSHI\\AppData\\Local\\Temp\\ipykernel_8024\\789665044.py:7: SettingWithCopyWarning: \n",
      "A value is trying to be set on a copy of a slice from a DataFrame.\n",
      "Try using .loc[row_indexer,col_indexer] = value instead\n",
      "\n",
      "See the caveats in the documentation: https://pandas.pydata.org/pandas-docs/stable/user_guide/indexing.html#returning-a-view-versus-a-copy\n",
      "  df[i] = mm.fit_transform(df[i].values.reshape(-1,1))\n",
      "C:\\Users\\HIMANSHU SURYAVANSHI\\AppData\\Local\\Temp\\ipykernel_8024\\789665044.py:7: SettingWithCopyWarning: \n",
      "A value is trying to be set on a copy of a slice from a DataFrame.\n",
      "Try using .loc[row_indexer,col_indexer] = value instead\n",
      "\n",
      "See the caveats in the documentation: https://pandas.pydata.org/pandas-docs/stable/user_guide/indexing.html#returning-a-view-versus-a-copy\n",
      "  df[i] = mm.fit_transform(df[i].values.reshape(-1,1))\n",
      "C:\\Users\\HIMANSHU SURYAVANSHI\\AppData\\Local\\Temp\\ipykernel_8024\\789665044.py:7: SettingWithCopyWarning: \n",
      "A value is trying to be set on a copy of a slice from a DataFrame.\n",
      "Try using .loc[row_indexer,col_indexer] = value instead\n",
      "\n",
      "See the caveats in the documentation: https://pandas.pydata.org/pandas-docs/stable/user_guide/indexing.html#returning-a-view-versus-a-copy\n",
      "  df[i] = mm.fit_transform(df[i].values.reshape(-1,1))\n"
     ]
    }
   ],
   "source": [
    "from sklearn.preprocessing import MinMaxScaler\n",
    "mm = MinMaxScaler()\n",
    "\n",
    "con_cols = ['Age','fnlwgt', 'eduction_no', 'capital_gain','capital_loss', 'hoursperweek']\n",
    "\n",
    "for i in con_cols:\n",
    "    df[i] = mm.fit_transform(df[i].values.reshape(-1,1))\n",
    "print(df[i])"
   ]
  },
  {
   "cell_type": "markdown",
   "id": "39a8054d",
   "metadata": {},
   "source": [
    "## How to Fill Null values ?"
   ]
  },
  {
   "cell_type": "code",
   "execution_count": 11,
   "id": "7a7bba85",
   "metadata": {},
   "outputs": [
    {
     "data": {
      "text/plain": [
       "'from sklearn.impute import SimpleImputer\\nsm = SimpleImputer()\\ndf = sm.fit_transform(df)'"
      ]
     },
     "execution_count": 11,
     "metadata": {},
     "output_type": "execute_result"
    }
   ],
   "source": [
    "'''from sklearn.impute import SimpleImputer\n",
    "sm = SimpleImputer()\n",
    "df = sm.fit_transform(df)'''"
   ]
  },
  {
   "cell_type": "markdown",
   "id": "23f7d64c",
   "metadata": {},
   "source": [
    "### Splitting into train test"
   ]
  },
  {
   "cell_type": "code",
   "execution_count": 12,
   "id": "84dce18b",
   "metadata": {},
   "outputs": [],
   "source": [
    "from sklearn.model_selection import train_test_split\n",
    "\n",
    "train,test = train_test_split(df,test_size=0.2)"
   ]
  },
  {
   "cell_type": "code",
   "execution_count": 13,
   "id": "f19a786f",
   "metadata": {},
   "outputs": [
    {
     "data": {
      "text/plain": [
       "(26444, 15)"
      ]
     },
     "execution_count": 13,
     "metadata": {},
     "output_type": "execute_result"
    }
   ],
   "source": [
    "df.shape # total rows"
   ]
  },
  {
   "cell_type": "code",
   "execution_count": 14,
   "id": "3988a980",
   "metadata": {},
   "outputs": [
    {
     "data": {
      "text/plain": [
       "(21155, 15)"
      ]
     },
     "execution_count": 14,
     "metadata": {},
     "output_type": "execute_result"
    }
   ],
   "source": [
    "train.shape # 80% data in train"
   ]
  },
  {
   "cell_type": "code",
   "execution_count": 15,
   "id": "004ed6f1",
   "metadata": {},
   "outputs": [
    {
     "data": {
      "text/plain": [
       "(5289, 15)"
      ]
     },
     "execution_count": 15,
     "metadata": {},
     "output_type": "execute_result"
    }
   ],
   "source": [
    "test.shape # 20% data in test"
   ]
  },
  {
   "cell_type": "markdown",
   "id": "ba26b5a1",
   "metadata": {},
   "source": [
    "### setting the target variable"
   ]
  },
  {
   "cell_type": "markdown",
   "id": "4764181d",
   "metadata": {},
   "source": [
    "##### Train data"
   ]
  },
  {
   "cell_type": "code",
   "execution_count": 16,
   "id": "7d0ab093",
   "metadata": {},
   "outputs": [],
   "source": [
    "train_x = train.iloc[:,:-1] # independent variable\n",
    "train_y = train.iloc[:,-1] #dependent"
   ]
  },
  {
   "cell_type": "code",
   "execution_count": 17,
   "id": "3d4629b0",
   "metadata": {},
   "outputs": [
    {
     "data": {
      "text/html": [
       "<div>\n",
       "<style scoped>\n",
       "    .dataframe tbody tr th:only-of-type {\n",
       "        vertical-align: middle;\n",
       "    }\n",
       "\n",
       "    .dataframe tbody tr th {\n",
       "        vertical-align: top;\n",
       "    }\n",
       "\n",
       "    .dataframe thead th {\n",
       "        text-align: right;\n",
       "    }\n",
       "</style>\n",
       "<table border=\"1\" class=\"dataframe\">\n",
       "  <thead>\n",
       "    <tr style=\"text-align: right;\">\n",
       "      <th></th>\n",
       "      <th>Age</th>\n",
       "      <th>Workclass</th>\n",
       "      <th>fnlwgt</th>\n",
       "      <th>education</th>\n",
       "      <th>eduction_no</th>\n",
       "      <th>status</th>\n",
       "      <th>occupation</th>\n",
       "      <th>relationship</th>\n",
       "      <th>race</th>\n",
       "      <th>sex</th>\n",
       "      <th>capital_gain</th>\n",
       "      <th>capital_loss</th>\n",
       "      <th>hoursperweek</th>\n",
       "      <th>native country</th>\n",
       "    </tr>\n",
       "  </thead>\n",
       "  <tbody>\n",
       "    <tr>\n",
       "      <th>12764</th>\n",
       "      <td>0.191781</td>\n",
       "      <td>7</td>\n",
       "      <td>0.009587</td>\n",
       "      <td>12</td>\n",
       "      <td>0.866667</td>\n",
       "      <td>0</td>\n",
       "      <td>1</td>\n",
       "      <td>1</td>\n",
       "      <td>4</td>\n",
       "      <td>0</td>\n",
       "      <td>0.0</td>\n",
       "      <td>0.0</td>\n",
       "      <td>0.244898</td>\n",
       "      <td>39</td>\n",
       "    </tr>\n",
       "    <tr>\n",
       "      <th>21535</th>\n",
       "      <td>0.109589</td>\n",
       "      <td>4</td>\n",
       "      <td>0.128560</td>\n",
       "      <td>6</td>\n",
       "      <td>0.266667</td>\n",
       "      <td>4</td>\n",
       "      <td>3</td>\n",
       "      <td>1</td>\n",
       "      <td>4</td>\n",
       "      <td>1</td>\n",
       "      <td>0.0</td>\n",
       "      <td>0.0</td>\n",
       "      <td>0.397959</td>\n",
       "      <td>26</td>\n",
       "    </tr>\n",
       "    <tr>\n",
       "      <th>10430</th>\n",
       "      <td>0.232877</td>\n",
       "      <td>4</td>\n",
       "      <td>0.089042</td>\n",
       "      <td>11</td>\n",
       "      <td>0.533333</td>\n",
       "      <td>4</td>\n",
       "      <td>12</td>\n",
       "      <td>3</td>\n",
       "      <td>4</td>\n",
       "      <td>0</td>\n",
       "      <td>0.0</td>\n",
       "      <td>0.0</td>\n",
       "      <td>0.397959</td>\n",
       "      <td>39</td>\n",
       "    </tr>\n",
       "    <tr>\n",
       "      <th>6479</th>\n",
       "      <td>0.301370</td>\n",
       "      <td>4</td>\n",
       "      <td>0.025144</td>\n",
       "      <td>9</td>\n",
       "      <td>0.800000</td>\n",
       "      <td>0</td>\n",
       "      <td>10</td>\n",
       "      <td>1</td>\n",
       "      <td>4</td>\n",
       "      <td>1</td>\n",
       "      <td>0.0</td>\n",
       "      <td>0.0</td>\n",
       "      <td>0.397959</td>\n",
       "      <td>39</td>\n",
       "    </tr>\n",
       "    <tr>\n",
       "      <th>11382</th>\n",
       "      <td>0.260274</td>\n",
       "      <td>1</td>\n",
       "      <td>0.038369</td>\n",
       "      <td>15</td>\n",
       "      <td>0.600000</td>\n",
       "      <td>2</td>\n",
       "      <td>1</td>\n",
       "      <td>0</td>\n",
       "      <td>4</td>\n",
       "      <td>1</td>\n",
       "      <td>0.0</td>\n",
       "      <td>0.0</td>\n",
       "      <td>0.346939</td>\n",
       "      <td>39</td>\n",
       "    </tr>\n",
       "  </tbody>\n",
       "</table>\n",
       "</div>"
      ],
      "text/plain": [
       "            Age  Workclass    fnlwgt  education  eduction_no  status  \\\n",
       "12764  0.191781          7  0.009587         12     0.866667       0   \n",
       "21535  0.109589          4  0.128560          6     0.266667       4   \n",
       "10430  0.232877          4  0.089042         11     0.533333       4   \n",
       "6479   0.301370          4  0.025144          9     0.800000       0   \n",
       "11382  0.260274          1  0.038369         15     0.600000       2   \n",
       "\n",
       "       occupation  relationship  race  sex  capital_gain  capital_loss  \\\n",
       "12764           1             1     4    0           0.0           0.0   \n",
       "21535           3             1     4    1           0.0           0.0   \n",
       "10430          12             3     4    0           0.0           0.0   \n",
       "6479           10             1     4    1           0.0           0.0   \n",
       "11382           1             0     4    1           0.0           0.0   \n",
       "\n",
       "       hoursperweek  native country  \n",
       "12764      0.244898              39  \n",
       "21535      0.397959              26  \n",
       "10430      0.397959              39  \n",
       "6479       0.397959              39  \n",
       "11382      0.346939              39  "
      ]
     },
     "execution_count": 17,
     "metadata": {},
     "output_type": "execute_result"
    }
   ],
   "source": [
    "train_x.head()"
   ]
  },
  {
   "cell_type": "code",
   "execution_count": 18,
   "id": "74ea73ac",
   "metadata": {},
   "outputs": [
    {
     "data": {
      "text/plain": [
       "12764     <=50K\n",
       "21535     <=50K\n",
       "10430     <=50K\n",
       "6479      <=50K\n",
       "11382     <=50K\n",
       "Name: Salary, dtype: object"
      ]
     },
     "execution_count": 18,
     "metadata": {},
     "output_type": "execute_result"
    }
   ],
   "source": [
    "train_y.head()"
   ]
  },
  {
   "cell_type": "markdown",
   "id": "3b9f9179",
   "metadata": {},
   "source": [
    "##### Test data"
   ]
  },
  {
   "cell_type": "code",
   "execution_count": 19,
   "id": "bf9ebae9",
   "metadata": {},
   "outputs": [],
   "source": [
    "test_x = test.iloc[:,:-1] # independent variable\n",
    "test_y = test.iloc[:,-1] #dependent"
   ]
  },
  {
   "cell_type": "code",
   "execution_count": 20,
   "id": "95b8acb9",
   "metadata": {},
   "outputs": [
    {
     "data": {
      "text/html": [
       "<div>\n",
       "<style scoped>\n",
       "    .dataframe tbody tr th:only-of-type {\n",
       "        vertical-align: middle;\n",
       "    }\n",
       "\n",
       "    .dataframe tbody tr th {\n",
       "        vertical-align: top;\n",
       "    }\n",
       "\n",
       "    .dataframe thead th {\n",
       "        text-align: right;\n",
       "    }\n",
       "</style>\n",
       "<table border=\"1\" class=\"dataframe\">\n",
       "  <thead>\n",
       "    <tr style=\"text-align: right;\">\n",
       "      <th></th>\n",
       "      <th>Age</th>\n",
       "      <th>Workclass</th>\n",
       "      <th>fnlwgt</th>\n",
       "      <th>education</th>\n",
       "      <th>eduction_no</th>\n",
       "      <th>status</th>\n",
       "      <th>occupation</th>\n",
       "      <th>relationship</th>\n",
       "      <th>race</th>\n",
       "      <th>sex</th>\n",
       "      <th>capital_gain</th>\n",
       "      <th>capital_loss</th>\n",
       "      <th>hoursperweek</th>\n",
       "      <th>native country</th>\n",
       "    </tr>\n",
       "  </thead>\n",
       "  <tbody>\n",
       "    <tr>\n",
       "      <th>18273</th>\n",
       "      <td>0.082192</td>\n",
       "      <td>7</td>\n",
       "      <td>0.015857</td>\n",
       "      <td>15</td>\n",
       "      <td>0.600000</td>\n",
       "      <td>4</td>\n",
       "      <td>8</td>\n",
       "      <td>1</td>\n",
       "      <td>4</td>\n",
       "      <td>1</td>\n",
       "      <td>0.000000</td>\n",
       "      <td>0.000000</td>\n",
       "      <td>0.500000</td>\n",
       "      <td>39</td>\n",
       "    </tr>\n",
       "    <tr>\n",
       "      <th>5075</th>\n",
       "      <td>0.260274</td>\n",
       "      <td>6</td>\n",
       "      <td>0.005466</td>\n",
       "      <td>11</td>\n",
       "      <td>0.533333</td>\n",
       "      <td>2</td>\n",
       "      <td>12</td>\n",
       "      <td>5</td>\n",
       "      <td>4</td>\n",
       "      <td>0</td>\n",
       "      <td>0.076881</td>\n",
       "      <td>0.000000</td>\n",
       "      <td>0.397959</td>\n",
       "      <td>39</td>\n",
       "    </tr>\n",
       "    <tr>\n",
       "      <th>7521</th>\n",
       "      <td>0.150685</td>\n",
       "      <td>4</td>\n",
       "      <td>0.093740</td>\n",
       "      <td>11</td>\n",
       "      <td>0.533333</td>\n",
       "      <td>2</td>\n",
       "      <td>7</td>\n",
       "      <td>0</td>\n",
       "      <td>0</td>\n",
       "      <td>1</td>\n",
       "      <td>0.000000</td>\n",
       "      <td>0.000000</td>\n",
       "      <td>0.448980</td>\n",
       "      <td>39</td>\n",
       "    </tr>\n",
       "    <tr>\n",
       "      <th>25456</th>\n",
       "      <td>0.506849</td>\n",
       "      <td>4</td>\n",
       "      <td>0.115476</td>\n",
       "      <td>10</td>\n",
       "      <td>1.000000</td>\n",
       "      <td>2</td>\n",
       "      <td>4</td>\n",
       "      <td>0</td>\n",
       "      <td>4</td>\n",
       "      <td>1</td>\n",
       "      <td>0.000000</td>\n",
       "      <td>0.453857</td>\n",
       "      <td>0.500000</td>\n",
       "      <td>39</td>\n",
       "    </tr>\n",
       "    <tr>\n",
       "      <th>26235</th>\n",
       "      <td>0.301370</td>\n",
       "      <td>4</td>\n",
       "      <td>0.046451</td>\n",
       "      <td>15</td>\n",
       "      <td>0.600000</td>\n",
       "      <td>0</td>\n",
       "      <td>7</td>\n",
       "      <td>3</td>\n",
       "      <td>4</td>\n",
       "      <td>0</td>\n",
       "      <td>0.000000</td>\n",
       "      <td>0.000000</td>\n",
       "      <td>0.397959</td>\n",
       "      <td>39</td>\n",
       "    </tr>\n",
       "  </tbody>\n",
       "</table>\n",
       "</div>"
      ],
      "text/plain": [
       "            Age  Workclass    fnlwgt  education  eduction_no  status  \\\n",
       "18273  0.082192          7  0.015857         15     0.600000       4   \n",
       "5075   0.260274          6  0.005466         11     0.533333       2   \n",
       "7521   0.150685          4  0.093740         11     0.533333       2   \n",
       "25456  0.506849          4  0.115476         10     1.000000       2   \n",
       "26235  0.301370          4  0.046451         15     0.600000       0   \n",
       "\n",
       "       occupation  relationship  race  sex  capital_gain  capital_loss  \\\n",
       "18273           8             1     4    1      0.000000      0.000000   \n",
       "5075           12             5     4    0      0.076881      0.000000   \n",
       "7521            7             0     0    1      0.000000      0.000000   \n",
       "25456           4             0     4    1      0.000000      0.453857   \n",
       "26235           7             3     4    0      0.000000      0.000000   \n",
       "\n",
       "       hoursperweek  native country  \n",
       "18273      0.500000              39  \n",
       "5075       0.397959              39  \n",
       "7521       0.448980              39  \n",
       "25456      0.500000              39  \n",
       "26235      0.397959              39  "
      ]
     },
     "execution_count": 20,
     "metadata": {},
     "output_type": "execute_result"
    }
   ],
   "source": [
    "test_x.head()"
   ]
  },
  {
   "cell_type": "code",
   "execution_count": 21,
   "id": "bc4ff993",
   "metadata": {},
   "outputs": [
    {
     "data": {
      "text/plain": [
       "18273     <=50K\n",
       "5075       >50K\n",
       "7521      <=50K\n",
       "25456      >50K\n",
       "26235     <=50K\n",
       "Name: Salary, dtype: object"
      ]
     },
     "execution_count": 21,
     "metadata": {},
     "output_type": "execute_result"
    }
   ],
   "source": [
    "test_y.head()"
   ]
  },
  {
   "cell_type": "markdown",
   "id": "ae053664",
   "metadata": {},
   "source": [
    "## K-nn"
   ]
  },
  {
   "cell_type": "code",
   "execution_count": 22,
   "id": "01a4767c",
   "metadata": {},
   "outputs": [],
   "source": [
    "from sklearn.neighbors import KNeighborsClassifier\n",
    "knn = KNeighborsClassifier().fit(train_x,train_y)\n",
    "pred = knn.predict(test_x)"
   ]
  },
  {
   "cell_type": "code",
   "execution_count": 23,
   "id": "14314504",
   "metadata": {},
   "outputs": [
    {
     "data": {
      "text/plain": [
       "0.8224617129892229"
      ]
     },
     "execution_count": 23,
     "metadata": {},
     "output_type": "execute_result"
    }
   ],
   "source": [
    "from sklearn.metrics import accuracy_score\n",
    "acc = accuracy_score(test_y,pred)\n",
    "acc"
   ]
  },
  {
   "cell_type": "markdown",
   "id": "67602e38",
   "metadata": {},
   "source": [
    "## Naive_Bayes"
   ]
  },
  {
   "cell_type": "code",
   "execution_count": 24,
   "id": "754df830",
   "metadata": {},
   "outputs": [],
   "source": [
    "from sklearn.naive_bayes import GaussianNB\n",
    "nb = GaussianNB().fit(train_x,train_y)"
   ]
  },
  {
   "cell_type": "code",
   "execution_count": 25,
   "id": "39050d73",
   "metadata": {},
   "outputs": [
    {
     "data": {
      "text/plain": [
       "array([' <=50K', ' >50K', ' <=50K', ..., ' <=50K', ' <=50K', ' <=50K'],\n",
       "      dtype='<U6')"
      ]
     },
     "execution_count": 25,
     "metadata": {},
     "output_type": "execute_result"
    }
   ],
   "source": [
    "pred = nb.predict(test_x)\n",
    "pred"
   ]
  },
  {
   "cell_type": "code",
   "execution_count": 26,
   "id": "1bfcf2df",
   "metadata": {},
   "outputs": [
    {
     "data": {
      "text/plain": [
       "0.8122518434486671"
      ]
     },
     "execution_count": 26,
     "metadata": {},
     "output_type": "execute_result"
    }
   ],
   "source": [
    "from sklearn.metrics import accuracy_score\n",
    "acc = accuracy_score(pred,test_y)\n",
    "acc"
   ]
  },
  {
   "cell_type": "markdown",
   "id": "e80cf5fc",
   "metadata": {},
   "source": [
    "### Decision Tree\n",
    "\n",
    "It is a classifier which works on maximum information gain\n",
    "\n",
    "The Variable which will have maximum information gain that will be treated as root node other will be treated as branches and leaves"
   ]
  },
  {
   "cell_type": "code",
   "execution_count": 27,
   "id": "3b4599f8",
   "metadata": {},
   "outputs": [
    {
     "data": {
      "text/plain": [
       "array([' <=50K', ' <=50K', ' >50K', ..., ' <=50K', ' <=50K', ' <=50K'],\n",
       "      dtype=object)"
      ]
     },
     "execution_count": 27,
     "metadata": {},
     "output_type": "execute_result"
    }
   ],
   "source": [
    "from sklearn.tree import DecisionTreeClassifier\n",
    "dt=DecisionTreeClassifier().fit(train_x,train_y)\n",
    "pred = dt.predict(test_x)\n",
    "pred"
   ]
  },
  {
   "cell_type": "code",
   "execution_count": 28,
   "id": "aad58175",
   "metadata": {},
   "outputs": [
    {
     "data": {
      "text/plain": [
       "0.8126299867649839"
      ]
     },
     "execution_count": 28,
     "metadata": {},
     "output_type": "execute_result"
    }
   ],
   "source": [
    "## accuracy \n",
    "from sklearn.metrics import accuracy_score\n",
    "acc = accuracy_score(pred,test_y)\n",
    "acc"
   ]
  },
  {
   "cell_type": "markdown",
   "id": "2cad2149",
   "metadata": {},
   "source": [
    "### Random_forest"
   ]
  },
  {
   "cell_type": "code",
   "execution_count": 29,
   "id": "8ba1ecea",
   "metadata": {},
   "outputs": [
    {
     "data": {
      "text/plain": [
       "array([' <=50K', ' >50K', ' <=50K', ..., ' <=50K', ' <=50K', ' <=50K'],\n",
       "      dtype=object)"
      ]
     },
     "execution_count": 29,
     "metadata": {},
     "output_type": "execute_result"
    }
   ],
   "source": [
    "from sklearn.ensemble import RandomForestClassifier\n",
    "rf = RandomForestClassifier(n_estimators=10).fit(train_x,train_y)\n",
    "pred = rf.predict(test_x)\n",
    "pred"
   ]
  },
  {
   "cell_type": "code",
   "execution_count": 30,
   "id": "40fe3540",
   "metadata": {},
   "outputs": [
    {
     "data": {
      "text/plain": [
       "0.8519568916619399"
      ]
     },
     "execution_count": 30,
     "metadata": {},
     "output_type": "execute_result"
    }
   ],
   "source": [
    "## accuracy \n",
    "from sklearn.metrics import accuracy_score\n",
    "acc = accuracy_score(pred,test_y)\n",
    "acc"
   ]
  },
  {
   "cell_type": "markdown",
   "id": "4586bd27",
   "metadata": {},
   "source": [
    "### Support_Vector_machine"
   ]
  },
  {
   "cell_type": "code",
   "execution_count": 1,
   "id": "e9d4bb06",
   "metadata": {},
   "outputs": [
    {
     "ename": "NameError",
     "evalue": "name 'train_x' is not defined",
     "output_type": "error",
     "traceback": [
      "\u001b[1;31m---------------------------------------------------------------------------\u001b[0m",
      "\u001b[1;31mNameError\u001b[0m                                 Traceback (most recent call last)",
      "Cell \u001b[1;32mIn[1], line 2\u001b[0m\n\u001b[0;32m      1\u001b[0m \u001b[38;5;28;01mfrom\u001b[39;00m \u001b[38;5;21;01msklearn\u001b[39;00m\u001b[38;5;21;01m.\u001b[39;00m\u001b[38;5;21;01msvm\u001b[39;00m \u001b[38;5;28;01mimport\u001b[39;00m SVC\n\u001b[1;32m----> 2\u001b[0m svm \u001b[38;5;241m=\u001b[39m SVC()\u001b[38;5;241m.\u001b[39mfit(train_x,train_y)\n\u001b[0;32m      3\u001b[0m pred \u001b[38;5;241m=\u001b[39m svm\u001b[38;5;241m.\u001b[39mpredict(test_x)\n\u001b[0;32m      4\u001b[0m pred\n",
      "\u001b[1;31mNameError\u001b[0m: name 'train_x' is not defined"
     ]
    }
   ],
   "source": [
    "from sklearn.svm import SVC\n",
    "svm = SVC().fit(train_x,train_y)\n",
    "pred = svm.predict(test_x)\n",
    "pred"
   ]
  },
  {
   "cell_type": "code",
   "execution_count": null,
   "id": "05d171ce",
   "metadata": {},
   "outputs": [],
   "source": [
    "## accuracy \n",
    "from sklearn.metrics import accuracy_score\n",
    "acc = accuracy_score(pred,test_y)\n",
    "acc"
   ]
  },
  {
   "cell_type": "code",
   "execution_count": null,
   "id": "77ab12bd",
   "metadata": {},
   "outputs": [],
   "source": []
  }
 ],
 "metadata": {
  "kernelspec": {
   "display_name": "Python 3 (ipykernel)",
   "language": "python",
   "name": "python3"
  },
  "language_info": {
   "codemirror_mode": {
    "name": "ipython",
    "version": 3
   },
   "file_extension": ".py",
   "mimetype": "text/x-python",
   "name": "python",
   "nbconvert_exporter": "python",
   "pygments_lexer": "ipython3",
   "version": "3.11.5"
  }
 },
 "nbformat": 4,
 "nbformat_minor": 5
}
