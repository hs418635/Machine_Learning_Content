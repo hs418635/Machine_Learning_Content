{
 "cells": [
  {
   "cell_type": "markdown",
   "id": "12204d3d",
   "metadata": {},
   "source": [
    "# z distribution"
   ]
  },
  {
   "cell_type": "code",
   "execution_count": 73,
   "id": "068afb07",
   "metadata": {},
   "outputs": [
    {
     "data": {
      "text/plain": [
       "'E:\\\\DebugShala\\\\Machine learning\\\\Confidence_interval'"
      ]
     },
     "execution_count": 73,
     "metadata": {},
     "output_type": "execute_result"
    }
   ],
   "source": [
    "import os\n",
    "os.getcwd()"
   ]
  },
  {
   "cell_type": "code",
   "execution_count": 33,
   "id": "991a0a36",
   "metadata": {},
   "outputs": [],
   "source": [
    "import scipy.stats as st\n",
    "z=st.norm.ppf(0.975,0,1)#95%\n",
    "\n",
    "# ppf is a function for the normal distribution\n",
    "# 0 , 1 ---> probability distribution\n",
    "# with z distribution we are finding the probability to which we are confidence"
   ]
  },
  {
   "cell_type": "code",
   "execution_count": 22,
   "id": "87252229",
   "metadata": {},
   "outputs": [
    {
     "data": {
      "text/html": [
       "<div>\n",
       "<style scoped>\n",
       "    .dataframe tbody tr th:only-of-type {\n",
       "        vertical-align: middle;\n",
       "    }\n",
       "\n",
       "    .dataframe tbody tr th {\n",
       "        vertical-align: top;\n",
       "    }\n",
       "\n",
       "    .dataframe thead th {\n",
       "        text-align: right;\n",
       "    }\n",
       "</style>\n",
       "<table border=\"1\" class=\"dataframe\">\n",
       "  <thead>\n",
       "    <tr style=\"text-align: right;\">\n",
       "      <th></th>\n",
       "      <th>Date</th>\n",
       "      <th>Open</th>\n",
       "      <th>High</th>\n",
       "      <th>Low</th>\n",
       "      <th>Close</th>\n",
       "      <th>Volume</th>\n",
       "      <th>OpenInt</th>\n",
       "    </tr>\n",
       "  </thead>\n",
       "  <tbody>\n",
       "    <tr>\n",
       "      <th>0</th>\n",
       "      <td>11-11-2015</td>\n",
       "      <td>18.50</td>\n",
       "      <td>25.90</td>\n",
       "      <td>18.00</td>\n",
       "      <td>24.50</td>\n",
       "      <td>1584600</td>\n",
       "      <td>0</td>\n",
       "    </tr>\n",
       "    <tr>\n",
       "      <th>1</th>\n",
       "      <td>12-11-2015</td>\n",
       "      <td>24.25</td>\n",
       "      <td>27.12</td>\n",
       "      <td>22.50</td>\n",
       "      <td>25.00</td>\n",
       "      <td>83000</td>\n",
       "      <td>0</td>\n",
       "    </tr>\n",
       "    <tr>\n",
       "      <th>2</th>\n",
       "      <td>13-11-2015</td>\n",
       "      <td>25.47</td>\n",
       "      <td>26.20</td>\n",
       "      <td>24.55</td>\n",
       "      <td>25.26</td>\n",
       "      <td>67300</td>\n",
       "      <td>0</td>\n",
       "    </tr>\n",
       "    <tr>\n",
       "      <th>3</th>\n",
       "      <td>16-11-2015</td>\n",
       "      <td>25.01</td>\n",
       "      <td>26.19</td>\n",
       "      <td>24.13</td>\n",
       "      <td>25.02</td>\n",
       "      <td>16900</td>\n",
       "      <td>0</td>\n",
       "    </tr>\n",
       "    <tr>\n",
       "      <th>4</th>\n",
       "      <td>17-11-2015</td>\n",
       "      <td>24.46</td>\n",
       "      <td>25.51</td>\n",
       "      <td>24.38</td>\n",
       "      <td>24.62</td>\n",
       "      <td>25900</td>\n",
       "      <td>0</td>\n",
       "    </tr>\n",
       "  </tbody>\n",
       "</table>\n",
       "</div>"
      ],
      "text/plain": [
       "         Date   Open   High    Low  Close   Volume  OpenInt\n",
       "0  11-11-2015  18.50  25.90  18.00  24.50  1584600        0\n",
       "1  12-11-2015  24.25  27.12  22.50  25.00    83000        0\n",
       "2  13-11-2015  25.47  26.20  24.55  25.26    67300        0\n",
       "3  16-11-2015  25.01  26.19  24.13  25.02    16900        0\n",
       "4  17-11-2015  24.46  25.51  24.38  24.62    25900        0"
      ]
     },
     "execution_count": 22,
     "metadata": {},
     "output_type": "execute_result"
    }
   ],
   "source": [
    "from scipy import mean\n",
    "import numpy as np\n",
    "import pandas as pd\n",
    "confidence=0.95#95% confidence level\n",
    "data=pd.read_csv(r\"E:\\DebugShala\\Machine learning\\Confidence_interval\\stockmarket.csv\")\n",
    "data.columns\n",
    "data.head()"
   ]
  },
  {
   "cell_type": "code",
   "execution_count": 23,
   "id": "cf2ac857",
   "metadata": {},
   "outputs": [
    {
     "data": {
      "text/plain": [
       "505"
      ]
     },
     "execution_count": 23,
     "metadata": {},
     "output_type": "execute_result"
    }
   ],
   "source": [
    "n=len(data)\n",
    "n # total number of rows"
   ]
  },
  {
   "cell_type": "code",
   "execution_count": 24,
   "id": "126ffd95",
   "metadata": {},
   "outputs": [
    {
     "name": "stderr",
     "output_type": "stream",
     "text": [
      "C:\\Users\\HIMANSHU SURYAVANSHI\\AppData\\Local\\Temp\\ipykernel_18036\\252685384.py:1: DeprecationWarning: scipy.mean is deprecated and will be removed in SciPy 2.0.0, use numpy.mean instead\n",
      "  m=mean(data['Close'])\n"
     ]
    },
    {
     "data": {
      "text/plain": [
       "37.342336633663365"
      ]
     },
     "execution_count": 24,
     "metadata": {},
     "output_type": "execute_result"
    }
   ],
   "source": [
    "m=mean(data['Close'])\n",
    "m"
   ]
  },
  {
   "cell_type": "code",
   "execution_count": 25,
   "id": "a927bd97",
   "metadata": {},
   "outputs": [
    {
     "data": {
      "text/plain": [
       "11.483187166056199"
      ]
     },
     "execution_count": 25,
     "metadata": {},
     "output_type": "execute_result"
    }
   ],
   "source": [
    "sd=np.std(data['Close'])\n",
    "sd"
   ]
  },
  {
   "cell_type": "code",
   "execution_count": 30,
   "id": "5b92ead9",
   "metadata": {},
   "outputs": [
    {
     "data": {
      "text/plain": [
       "1.001532035635817"
      ]
     },
     "execution_count": 30,
     "metadata": {},
     "output_type": "execute_result"
    }
   ],
   "source": [
    "# margin of error for z ditribution\n",
    "mg=z*(sd)/np.sqrt(n)\n",
    "mg "
   ]
  },
  {
   "cell_type": "code",
   "execution_count": 31,
   "id": "29aa2eae",
   "metadata": {},
   "outputs": [
    {
     "name": "stdout",
     "output_type": "stream",
     "text": [
      "38.343868669299184\n"
     ]
    }
   ],
   "source": [
    "# upper limit or upper confidence interval\n",
    "upperci=m+mg\n",
    "print(upperci)\n",
    "# next day "
   ]
  },
  {
   "cell_type": "code",
   "execution_count": 28,
   "id": "7099f27a",
   "metadata": {},
   "outputs": [
    {
     "name": "stdout",
     "output_type": "stream",
     "text": [
      "36.340804598027546\n"
     ]
    }
   ],
   "source": [
    "lowerci=m-mg\n",
    "print(lowerci)"
   ]
  },
  {
   "cell_type": "code",
   "execution_count": 29,
   "id": "01c109f2",
   "metadata": {},
   "outputs": [
    {
     "data": {
      "text/plain": [
       "2.0030640712716377"
      ]
     },
     "execution_count": 29,
     "metadata": {},
     "output_type": "execute_result"
    }
   ],
   "source": [
    "range=upperci-lowerci\n",
    "range #+- 2"
   ]
  },
  {
   "cell_type": "markdown",
   "id": "c5c1b0e4",
   "metadata": {},
   "source": [
    "# T distribution"
   ]
  },
  {
   "cell_type": "code",
   "execution_count": 74,
   "id": "866049a3",
   "metadata": {},
   "outputs": [],
   "source": [
    "#t distribution\n",
    "import scipy.stats as st\n",
    "from scipy.stats import t \n",
    "from scipy import mean\n",
    "import numpy as np\n",
    "t=st.t.ppf(0.975,len(data)-1) # here \n",
    "confidence=0.95#95% confidence "
   ]
  },
  {
   "cell_type": "code",
   "execution_count": 75,
   "id": "0d944875",
   "metadata": {},
   "outputs": [
    {
     "data": {
      "text/plain": [
       "505"
      ]
     },
     "execution_count": 75,
     "metadata": {},
     "output_type": "execute_result"
    }
   ],
   "source": [
    "n = len(data)\n",
    "n"
   ]
  },
  {
   "cell_type": "code",
   "execution_count": 76,
   "id": "0c1ca80f",
   "metadata": {},
   "outputs": [
    {
     "data": {
      "text/html": [
       "<div>\n",
       "<style scoped>\n",
       "    .dataframe tbody tr th:only-of-type {\n",
       "        vertical-align: middle;\n",
       "    }\n",
       "\n",
       "    .dataframe tbody tr th {\n",
       "        vertical-align: top;\n",
       "    }\n",
       "\n",
       "    .dataframe thead th {\n",
       "        text-align: right;\n",
       "    }\n",
       "</style>\n",
       "<table border=\"1\" class=\"dataframe\">\n",
       "  <thead>\n",
       "    <tr style=\"text-align: right;\">\n",
       "      <th></th>\n",
       "      <th>Date</th>\n",
       "      <th>Open</th>\n",
       "      <th>High</th>\n",
       "      <th>Low</th>\n",
       "      <th>Close</th>\n",
       "      <th>Volume</th>\n",
       "      <th>OpenInt</th>\n",
       "    </tr>\n",
       "  </thead>\n",
       "  <tbody>\n",
       "    <tr>\n",
       "      <th>0</th>\n",
       "      <td>11-11-2015</td>\n",
       "      <td>18.50</td>\n",
       "      <td>25.90</td>\n",
       "      <td>18.00</td>\n",
       "      <td>24.50</td>\n",
       "      <td>1584600</td>\n",
       "      <td>0</td>\n",
       "    </tr>\n",
       "    <tr>\n",
       "      <th>1</th>\n",
       "      <td>12-11-2015</td>\n",
       "      <td>24.25</td>\n",
       "      <td>27.12</td>\n",
       "      <td>22.50</td>\n",
       "      <td>25.00</td>\n",
       "      <td>83000</td>\n",
       "      <td>0</td>\n",
       "    </tr>\n",
       "    <tr>\n",
       "      <th>2</th>\n",
       "      <td>13-11-2015</td>\n",
       "      <td>25.47</td>\n",
       "      <td>26.20</td>\n",
       "      <td>24.55</td>\n",
       "      <td>25.26</td>\n",
       "      <td>67300</td>\n",
       "      <td>0</td>\n",
       "    </tr>\n",
       "    <tr>\n",
       "      <th>3</th>\n",
       "      <td>16-11-2015</td>\n",
       "      <td>25.01</td>\n",
       "      <td>26.19</td>\n",
       "      <td>24.13</td>\n",
       "      <td>25.02</td>\n",
       "      <td>16900</td>\n",
       "      <td>0</td>\n",
       "    </tr>\n",
       "    <tr>\n",
       "      <th>4</th>\n",
       "      <td>17-11-2015</td>\n",
       "      <td>24.46</td>\n",
       "      <td>25.51</td>\n",
       "      <td>24.38</td>\n",
       "      <td>24.62</td>\n",
       "      <td>25900</td>\n",
       "      <td>0</td>\n",
       "    </tr>\n",
       "  </tbody>\n",
       "</table>\n",
       "</div>"
      ],
      "text/plain": [
       "         Date   Open   High    Low  Close   Volume  OpenInt\n",
       "0  11-11-2015  18.50  25.90  18.00  24.50  1584600        0\n",
       "1  12-11-2015  24.25  27.12  22.50  25.00    83000        0\n",
       "2  13-11-2015  25.47  26.20  24.55  25.26    67300        0\n",
       "3  16-11-2015  25.01  26.19  24.13  25.02    16900        0\n",
       "4  17-11-2015  24.46  25.51  24.38  24.62    25900        0"
      ]
     },
     "execution_count": 76,
     "metadata": {},
     "output_type": "execute_result"
    }
   ],
   "source": [
    "data=pd.read_csv(r\"E:\\DebugShala\\Machine learning\\Confidence_interval\\stockmarket.csv\")\n",
    "data.head()"
   ]
  },
  {
   "cell_type": "code",
   "execution_count": 77,
   "id": "34713e8e",
   "metadata": {},
   "outputs": [
    {
     "name": "stderr",
     "output_type": "stream",
     "text": [
      "C:\\Users\\HIMANSHU SURYAVANSHI\\AppData\\Local\\Temp\\ipykernel_18036\\252685384.py:1: DeprecationWarning: scipy.mean is deprecated and will be removed in SciPy 2.0.0, use numpy.mean instead\n",
      "  m=mean(data['Close'])\n"
     ]
    },
    {
     "data": {
      "text/plain": [
       "37.342336633663365"
      ]
     },
     "execution_count": 77,
     "metadata": {},
     "output_type": "execute_result"
    }
   ],
   "source": [
    "m=mean(data['Close'])\n",
    "m"
   ]
  },
  {
   "cell_type": "code",
   "execution_count": 78,
   "id": "c0c15b4d",
   "metadata": {},
   "outputs": [
    {
     "data": {
      "text/plain": [
       "11.483187166056199"
      ]
     },
     "execution_count": 78,
     "metadata": {},
     "output_type": "execute_result"
    }
   ],
   "source": [
    "s=np.std(data['Close'])\n",
    "s"
   ]
  },
  {
   "cell_type": "code",
   "execution_count": 79,
   "id": "425e9dea",
   "metadata": {},
   "outputs": [
    {
     "data": {
      "text/plain": [
       "22.47220505424423"
      ]
     },
     "execution_count": 79,
     "metadata": {},
     "output_type": "execute_result"
    }
   ],
   "source": [
    "N=np.sqrt(n)\n",
    "N #-----> N = sqrt(n)"
   ]
  },
  {
   "cell_type": "code",
   "execution_count": 80,
   "id": "1a27a4a4",
   "metadata": {},
   "outputs": [
    {
     "data": {
      "text/plain": [
       "1.0039429202539927"
      ]
     },
     "execution_count": 80,
     "metadata": {},
     "output_type": "execute_result"
    }
   ],
   "source": [
    "moe=t*s/(N)\n",
    "moe"
   ]
  },
  {
   "cell_type": "code",
   "execution_count": 81,
   "id": "c1c9c73a",
   "metadata": {},
   "outputs": [
    {
     "name": "stdout",
     "output_type": "stream",
     "text": [
      "38.346279553917356\n"
     ]
    }
   ],
   "source": [
    "upperci=m+moe\n",
    "print(upperci)"
   ]
  },
  {
   "cell_type": "code",
   "execution_count": 82,
   "id": "4c0ff012",
   "metadata": {},
   "outputs": [
    {
     "name": "stdout",
     "output_type": "stream",
     "text": [
      "36.338393713409374\n"
     ]
    }
   ],
   "source": [
    "lowerci=m-moe\n",
    "print(lowerci)"
   ]
  },
  {
   "cell_type": "code",
   "execution_count": 83,
   "id": "827a6b68",
   "metadata": {},
   "outputs": [
    {
     "data": {
      "text/plain": [
       "2.0078858405079814"
      ]
     },
     "execution_count": 83,
     "metadata": {},
     "output_type": "execute_result"
    }
   ],
   "source": [
    "range=upperci-lowerci\n",
    "range"
   ]
  },
  {
   "cell_type": "code",
   "execution_count": null,
   "id": "bd155150",
   "metadata": {},
   "outputs": [],
   "source": []
  }
 ],
 "metadata": {
  "kernelspec": {
   "display_name": "Python 3 (ipykernel)",
   "language": "python",
   "name": "python3"
  },
  "language_info": {
   "codemirror_mode": {
    "name": "ipython",
    "version": 3
   },
   "file_extension": ".py",
   "mimetype": "text/x-python",
   "name": "python",
   "nbconvert_exporter": "python",
   "pygments_lexer": "ipython3",
   "version": "3.11.5"
  }
 },
 "nbformat": 4,
 "nbformat_minor": 5
}
