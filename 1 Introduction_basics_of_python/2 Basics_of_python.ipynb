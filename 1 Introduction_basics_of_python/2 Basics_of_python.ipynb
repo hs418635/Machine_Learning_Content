{
 "cells": [
  {
   "cell_type": "markdown",
   "id": "0af0188a",
   "metadata": {},
   "source": [
    "### Basic Python"
   ]
  },
  {
   "cell_type": "code",
   "execution_count": 35,
   "id": "24d596b9",
   "metadata": {},
   "outputs": [
    {
     "name": "stdout",
     "output_type": "stream",
     "text": [
      "a is 20\n",
      "a is 20\n",
      "a is 20 and b is 30\n",
      "a is 30 and b is 20\n",
      "a is 20\n",
      "a is 20\n"
     ]
    }
   ],
   "source": [
    "# print()\n",
    "a = 20\n",
    "b = 30\n",
    "\n",
    "print(\"a is\",a)\n",
    "print(\"a is 20\")\n",
    "print(\"a is {} and b is {}\".format(a,b))\n",
    "print(\"a is {1} and b is {0}\".format(a,b))\n",
    "print(\"a is %d\"%a)\n",
    "print(\"a is %s\"%a)"
   ]
  },
  {
   "cell_type": "code",
   "execution_count": 1,
   "id": "9b72d406",
   "metadata": {},
   "outputs": [
    {
     "data": {
      "text/plain": [
       "'Inputting ouputting\\nControl Flow Statements\\n    1 ) Conditional statements\\n    2 ) Looping statements\\nfuntions\\ndata structures'"
      ]
     },
     "execution_count": 1,
     "metadata": {},
     "output_type": "execute_result"
    }
   ],
   "source": [
    "'''Inputting ouputting\n",
    "Control Flow Statements\n",
    "    1 ) Conditional statements\n",
    "    2 ) Looping statements\n",
    "funtions\n",
    "data structures'''"
   ]
  },
  {
   "cell_type": "code",
   "execution_count": 2,
   "id": "cd926002",
   "metadata": {},
   "outputs": [
    {
     "name": "stdout",
     "output_type": "stream",
     "text": [
      "enter num:10\n",
      "enter num:20\n"
     ]
    }
   ],
   "source": [
    "### inpputting\n",
    "\n",
    "a = int(input(\"enter num:\"))\n",
    "b = float(input(\"enter num:\"))\n",
    "c = a + b"
   ]
  },
  {
   "cell_type": "markdown",
   "id": "2bd128c2",
   "metadata": {},
   "source": [
    "### control flow statements"
   ]
  },
  {
   "cell_type": "code",
   "execution_count": 3,
   "id": "1da6e6ca",
   "metadata": {},
   "outputs": [],
   "source": [
    "# conditional statements\n",
    "\n",
    "# simple if\n",
    "if 18<6:\n",
    "    print(\"hi\")"
   ]
  },
  {
   "cell_type": "code",
   "execution_count": 4,
   "id": "ff2048c0",
   "metadata": {},
   "outputs": [
    {
     "name": "stdout",
     "output_type": "stream",
     "text": [
      "bye\n"
     ]
    }
   ],
   "source": [
    "# if else\n",
    "if  18<6:\n",
    "    print(\"hi\")\n",
    "else:\n",
    "    print(\"bye\")"
   ]
  },
  {
   "cell_type": "code",
   "execution_count": 5,
   "id": "e6942bf3",
   "metadata": {},
   "outputs": [
    {
     "name": "stdout",
     "output_type": "stream",
     "text": [
      "greater\n"
     ]
    }
   ],
   "source": [
    "# if else ladder\n",
    "if 18<6:\n",
    "    print(\"less\")\n",
    "elif 18==6:\n",
    "    print(\"equa\")\n",
    "elif 18>6:\n",
    "    print(\"greater\")\n",
    "else:\n",
    "    print(\"hmm\")"
   ]
  },
  {
   "cell_type": "code",
   "execution_count": 6,
   "id": "9ed2d360",
   "metadata": {},
   "outputs": [
    {
     "name": "stdout",
     "output_type": "stream",
     "text": [
      "enter username:hskjhd\n",
      "user is wrong\n"
     ]
    }
   ],
   "source": [
    "# nested if\n",
    "user = input(\"enter username:\")\n",
    "if user==\"debug\":\n",
    "    password = input(\"enter password:\")\n",
    "    if password==\"shala\":\n",
    "        print(\"login successfull\")\n",
    "    else:\n",
    "        print(\"wrong password\")\n",
    "else:\n",
    "    print(\"user is wrong\")"
   ]
  },
  {
   "cell_type": "code",
   "execution_count": 7,
   "id": "949b5ef6",
   "metadata": {},
   "outputs": [
    {
     "name": "stdout",
     "output_type": "stream",
     "text": [
      "enter username:debug\n",
      "enter password:shala\n",
      "login successfull\n"
     ]
    }
   ],
   "source": [
    "# nested if\n",
    "user = input(\"enter username:\")\n",
    "if user==\"debug\":\n",
    "    password = input(\"enter password:\")\n",
    "    if password==\"shala\":\n",
    "        print(\"login successfull\")\n",
    "    else:\n",
    "        print(\"wrong password\")\n",
    "else:\n",
    "    print(\"user is wrong\")"
   ]
  },
  {
   "cell_type": "markdown",
   "id": "82ca056c",
   "metadata": {},
   "source": [
    "### looping statements"
   ]
  },
  {
   "cell_type": "code",
   "execution_count": 12,
   "id": "5a0f83a9",
   "metadata": {},
   "outputs": [
    {
     "name": "stdout",
     "output_type": "stream",
     "text": [
      "DataScience\n",
      "DataScience\n",
      "DataScience\n",
      "DataScience\n",
      "DataScience\n",
      "DataScience\n"
     ]
    }
   ],
   "source": [
    "# while loop \n",
    "\n",
    "\n",
    "# infinter\n",
    "# while True:\n",
    "#     print(\"hii\")\n",
    "\n",
    "# finite loop\n",
    "i = 0\n",
    "while i<=5:\n",
    "    print(\"DataScience\")\n",
    "    i += 1"
   ]
  },
  {
   "cell_type": "code",
   "execution_count": 14,
   "id": "60a58872",
   "metadata": {},
   "outputs": [
    {
     "name": "stdout",
     "output_type": "stream",
     "text": [
      "1\n",
      "2\n",
      "3\n",
      "4\n",
      "5\n",
      "6\n",
      "7\n",
      "8\n",
      "9\n"
     ]
    }
   ],
   "source": [
    "# for loop\n",
    "\n",
    "for i in range(1,10):\n",
    "    print(i)"
   ]
  },
  {
   "cell_type": "code",
   "execution_count": 16,
   "id": "ea35bf84",
   "metadata": {},
   "outputs": [
    {
     "name": "stdout",
     "output_type": "stream",
     "text": [
      "2\n",
      "4\n",
      "6\n",
      "8\n",
      "10\n",
      "12\n",
      "14\n",
      "16\n",
      "18\n",
      "20\n"
     ]
    }
   ],
   "source": [
    "for i in range(2,21,2):\n",
    "    print(i)"
   ]
  },
  {
   "cell_type": "markdown",
   "id": "02edbad7",
   "metadata": {},
   "source": [
    "### functions "
   ]
  },
  {
   "cell_type": "code",
   "execution_count": 17,
   "id": "2733ad1d",
   "metadata": {},
   "outputs": [
    {
     "name": "stdout",
     "output_type": "stream",
     "text": [
      "hello\n"
     ]
    }
   ],
   "source": [
    "# ibuilt fucntions ----> sum() , print() , int() , float()\n",
    "# user defined function---> with arguments and without arguments\n",
    "\n",
    "# syntax\n",
    "# def function():\n",
    "#     condition\n",
    "# function_calling()\n",
    "\n",
    "# without arguments\n",
    "def demo():\n",
    "    print(\"hello\")\n",
    "demo()"
   ]
  },
  {
   "cell_type": "code",
   "execution_count": 18,
   "id": "feb182dc",
   "metadata": {},
   "outputs": [
    {
     "name": "stdout",
     "output_type": "stream",
     "text": [
      "5\n"
     ]
    }
   ],
   "source": [
    "# with arguments\n",
    "def add(a,b):\n",
    "    print(a+b)\n",
    "add(2,3)"
   ]
  },
  {
   "cell_type": "markdown",
   "id": "d92f8a37",
   "metadata": {},
   "source": [
    "### Data structures"
   ]
  },
  {
   "cell_type": "code",
   "execution_count": 19,
   "id": "900eab1a",
   "metadata": {},
   "outputs": [
    {
     "data": {
      "text/plain": [
       "[1, 2, 3, 4, 5]"
      ]
     },
     "execution_count": 19,
     "metadata": {},
     "output_type": "execute_result"
    }
   ],
   "source": [
    "# list\n",
    "\n",
    "List = [1,2,3,4,5]\n",
    "List"
   ]
  },
  {
   "cell_type": "code",
   "execution_count": 22,
   "id": "4b74a34a",
   "metadata": {},
   "outputs": [
    {
     "name": "stdout",
     "output_type": "stream",
     "text": [
      "<class 'tuple'>\n"
     ]
    }
   ],
   "source": [
    "# tuple\n",
    "t = (1,2,3,4,5)\n",
    "t\n",
    "print(type(t))"
   ]
  },
  {
   "cell_type": "code",
   "execution_count": 23,
   "id": "86e4411b",
   "metadata": {},
   "outputs": [
    {
     "name": "stdout",
     "output_type": "stream",
     "text": [
      "<class 'dict'>\n"
     ]
    }
   ],
   "source": [
    "# set\n",
    "\n",
    "sett = {}\n",
    "print(type(sett))"
   ]
  },
  {
   "cell_type": "code",
   "execution_count": 24,
   "id": "7e229dae",
   "metadata": {},
   "outputs": [
    {
     "name": "stdout",
     "output_type": "stream",
     "text": [
      "<class 'set'>\n",
      "{1, 2, 3, 4, 5}\n"
     ]
    }
   ],
   "source": [
    "sett = {1,2,3,4,5,5,5}\n",
    "print(type(sett))\n",
    "print(sett)"
   ]
  },
  {
   "cell_type": "code",
   "execution_count": 28,
   "id": "c95d1f7a",
   "metadata": {},
   "outputs": [
    {
     "data": {
      "text/plain": [
       "{'jan': 12000, 'feb': 13000, 'name': 'himanshu'}"
      ]
     },
     "execution_count": 28,
     "metadata": {},
     "output_type": "execute_result"
    }
   ],
   "source": [
    "# dictionary\n",
    "d = {\n",
    "    \"jan\":12000,\n",
    "    \"feb\":13000,\n",
    "    \"name\":\"himanshu\"\n",
    "}\n",
    "d"
   ]
  },
  {
   "cell_type": "code",
   "execution_count": null,
   "id": "48b19949",
   "metadata": {},
   "outputs": [],
   "source": []
  }
 ],
 "metadata": {
  "kernelspec": {
   "display_name": "Python 3 (ipykernel)",
   "language": "python",
   "name": "python3"
  },
  "language_info": {
   "codemirror_mode": {
    "name": "ipython",
    "version": 3
   },
   "file_extension": ".py",
   "mimetype": "text/x-python",
   "name": "python",
   "nbconvert_exporter": "python",
   "pygments_lexer": "ipython3",
   "version": "3.11.5"
  }
 },
 "nbformat": 4,
 "nbformat_minor": 5
}
