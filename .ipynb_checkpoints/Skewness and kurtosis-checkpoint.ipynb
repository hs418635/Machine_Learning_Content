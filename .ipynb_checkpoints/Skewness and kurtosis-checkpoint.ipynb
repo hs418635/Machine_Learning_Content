{
 "cells": [
  {
   "cell_type": "code",
   "execution_count": 2,
   "id": "d51e248a",
   "metadata": {},
   "outputs": [
    {
     "data": {
      "text/plain": [
       "'E:\\\\DebugShala\\\\Machine learning'"
      ]
     },
     "execution_count": 2,
     "metadata": {},
     "output_type": "execute_result"
    }
   ],
   "source": [
    "import os\n",
    "os.getcwd()"
   ]
  },
  {
   "cell_type": "code",
   "execution_count": 3,
   "id": "a0341070",
   "metadata": {},
   "outputs": [
    {
     "data": {
      "text/plain": [
       "array([[ 3,  3,  7],\n",
       "       [ 2,  4, 11],\n",
       "       [10,  7,  2],\n",
       "       [ 1,  2, 10]])"
      ]
     },
     "execution_count": 3,
     "metadata": {},
     "output_type": "execute_result"
    }
   ],
   "source": [
    "import numpy as np\n",
    "\n",
    "np.random.seed(123)\n",
    "arr = np.random.randint(1,12,12).reshape(4,3)\n",
    "arr"
   ]
  },
  {
   "cell_type": "code",
   "execution_count": 8,
   "id": "2f2a4dfe",
   "metadata": {},
   "outputs": [
    {
     "name": "stdout",
     "output_type": "stream",
     "text": [
      "min: 1\n",
      "max: 11\n",
      "mean: 5.166666666666667\n",
      "median: 3.5\n",
      "range: 10\n"
     ]
    }
   ],
   "source": [
    "# statistical functions\n",
    "print(\"min:\",np.min(arr))\n",
    "print(\"max:\",np.max(arr))\n",
    "print(\"mean:\",np.mean(arr))\n",
    "print(\"median:\",np.median(arr))\n",
    "print(\"range:\",np.max(arr)-np.min(arr))"
   ]
  },
  {
   "cell_type": "code",
   "execution_count": 12,
   "id": "7e81c384",
   "metadata": {},
   "outputs": [
    {
     "data": {
      "text/plain": [
       "ModeResult(mode=array([1, 2, 2], dtype=int64), count=array([1, 1, 1], dtype=int64))"
      ]
     },
     "execution_count": 12,
     "metadata": {},
     "output_type": "execute_result"
    }
   ],
   "source": [
    "# for mode\n",
    "from scipy import stats\n",
    "\n",
    "stats.mode(arr)"
   ]
  },
  {
   "cell_type": "code",
   "execution_count": 19,
   "id": "054e8945",
   "metadata": {},
   "outputs": [
    {
     "data": {
      "text/html": [
       "<div>\n",
       "<style scoped>\n",
       "    .dataframe tbody tr th:only-of-type {\n",
       "        vertical-align: middle;\n",
       "    }\n",
       "\n",
       "    .dataframe tbody tr th {\n",
       "        vertical-align: top;\n",
       "    }\n",
       "\n",
       "    .dataframe thead th {\n",
       "        text-align: right;\n",
       "    }\n",
       "</style>\n",
       "<table border=\"1\" class=\"dataframe\">\n",
       "  <thead>\n",
       "    <tr style=\"text-align: right;\">\n",
       "      <th></th>\n",
       "      <th>MPG</th>\n",
       "      <th>CYL</th>\n",
       "      <th>ENG</th>\n",
       "      <th>WGT</th>\n",
       "      <th>VS</th>\n",
       "    </tr>\n",
       "  </thead>\n",
       "  <tbody>\n",
       "    <tr>\n",
       "      <th>0</th>\n",
       "      <td>18</td>\n",
       "      <td>8.0</td>\n",
       "      <td>307.0</td>\n",
       "      <td>3504.0</td>\n",
       "      <td>Y</td>\n",
       "    </tr>\n",
       "    <tr>\n",
       "      <th>1</th>\n",
       "      <td>15</td>\n",
       "      <td>8.0</td>\n",
       "      <td>350.0</td>\n",
       "      <td>3693.0</td>\n",
       "      <td>Y</td>\n",
       "    </tr>\n",
       "    <tr>\n",
       "      <th>2</th>\n",
       "      <td>18</td>\n",
       "      <td>8.0</td>\n",
       "      <td>318.0</td>\n",
       "      <td>3436.0</td>\n",
       "      <td>Y</td>\n",
       "    </tr>\n",
       "    <tr>\n",
       "      <th>3</th>\n",
       "      <td>16</td>\n",
       "      <td>8.0</td>\n",
       "      <td>304.0</td>\n",
       "      <td>3433.0</td>\n",
       "      <td>Y</td>\n",
       "    </tr>\n",
       "    <tr>\n",
       "      <th>4</th>\n",
       "      <td>17</td>\n",
       "      <td>8.0</td>\n",
       "      <td>302.0</td>\n",
       "      <td>3449.0</td>\n",
       "      <td>Y</td>\n",
       "    </tr>\n",
       "  </tbody>\n",
       "</table>\n",
       "</div>"
      ],
      "text/plain": [
       "   MPG  CYL    ENG     WGT VS\n",
       "0   18  8.0  307.0  3504.0  Y\n",
       "1   15  8.0  350.0  3693.0  Y\n",
       "2   18  8.0  318.0  3436.0  Y\n",
       "3   16  8.0  304.0  3433.0  Y\n",
       "4   17  8.0  302.0  3449.0  Y"
      ]
     },
     "execution_count": 19,
     "metadata": {},
     "output_type": "execute_result"
    }
   ],
   "source": [
    "# importing dataset\n",
    "\n",
    "import numpy as np\n",
    "import pandas as pd\n",
    "df = pd.read_csv(\"E:\\DebugShala\\Machine learning\\Lec 2\\cars.csv\")\n",
    "df.head()"
   ]
  },
  {
   "cell_type": "code",
   "execution_count": 23,
   "id": "a5d42c68",
   "metadata": {},
   "outputs": [
    {
     "name": "stdout",
     "output_type": "stream",
     "text": [
      "min of cylinder \n",
      " -5.003508772\n",
      "max of cylinder \n",
      " 25.0\n",
      "mean of cylinder \n",
      " 3.9742944317173916\n",
      "median of cylinder \n",
      " 6.0\n",
      "std_deviation of cylinder \n",
      " 5.942018262277353\n",
      "variance of cylinder \n",
      " 35.30758102923757\n"
     ]
    }
   ],
   "source": [
    "print(\"min of cylinder \\n\",df['CYL'].min())\n",
    "print(\"max of cylinder \\n\",df['CYL'].max())\n",
    "print(\"mean of cylinder \\n\",df['CYL'].mean())\n",
    "print(\"median of cylinder \\n\",df['CYL'].median())\n",
    "print(\"std_deviation of cylinder \\n\",df['CYL'].std())\n",
    "print(\"variance of cylinder \\n\",df['CYL'].var())"
   ]
  },
  {
   "cell_type": "markdown",
   "id": "ffecc5eb",
   "metadata": {},
   "source": [
    "### plots"
   ]
  },
  {
   "cell_type": "code",
   "execution_count": 26,
   "id": "f6953eab",
   "metadata": {},
   "outputs": [],
   "source": [
    "import numpy as np\n",
    "import pandas as pd\n",
    "import matplotlib.pyplot as plt"
   ]
  },
  {
   "cell_type": "code",
   "execution_count": 51,
   "id": "c66205d0",
   "metadata": {},
   "outputs": [
    {
     "data": {
      "text/plain": [
       "Text(0.5, 0, 'subject')"
      ]
     },
     "execution_count": 51,
     "metadata": {},
     "output_type": "execute_result"
    },
    {
     "data": {
      "image/png": "[encoded data removed]",
      "text/plain": [
       "<Figure size 640x480 with 1 Axes>"
      ]
     },
     "metadata": {},
     "output_type": "display_data"
    }
   ],
   "source": [
    "sub = (\"pyth\",\"sql\",\"powerbi\",\"excel\",\"ML\")\n",
    "arr1 = np.arange(len(sub))\n",
    "arr2 = np.array([10,8,3,5,7])\n",
    "sorted_arr2 = np.sort(arr2)\n",
    "plt.bar(arr1,sorted_arr2, align='center' , alpha=0.9)\n",
    "plt.title(\"programming language used\")\n",
    "plt.ylabel(\"usage\")\n",
    "plt.xlabel(\"subject\")"
   ]
  },
  {
   "cell_type": "code",
   "execution_count": 52,
   "id": "c7720ad4",
   "metadata": {},
   "outputs": [
    {
     "data": {
      "text/plain": [
       "Text(0.5, 0, 'subject')"
      ]
     },
     "execution_count": 52,
     "metadata": {},
     "output_type": "execute_result"
    },
    {
     "data": {
      "image/png": "[encoded data removed]",
      "text/plain": [
       "<Figure size 640x480 with 1 Axes>"
      ]
     },
     "metadata": {},
     "output_type": "display_data"
    }
   ],
   "source": [
    "sub = (\"pyth\",\"sql\",\"powerbi\",\"excel\",\"ML\")\n",
    "arr1 = np.arange(len(sub))\n",
    "arr2 = np.array([10,8,3,5,7])\n",
    "sorted_arr2 = np.sort(arr2)\n",
    "plt.barh(arr1,sorted_arr2, align='center' , alpha=0.9)\n",
    "plt.title(\"programming language used\")\n",
    "plt.ylabel(\"usage\")\n",
    "plt.xlabel(\"subject\")"
   ]
  },
  {
   "cell_type": "code",
   "execution_count": null,
   "id": "fb614aa8",
   "metadata": {},
   "outputs": [],
   "source": []
  },
  {
   "cell_type": "code",
   "execution_count": null,
   "id": "efb86eff",
   "metadata": {},
   "outputs": [],
   "source": []
  },
  {
   "cell_type": "code",
   "execution_count": null,
   "id": "b6e02b60",
   "metadata": {},
   "outputs": [],
   "source": []
  },
  {
   "cell_type": "code",
   "execution_count": null,
   "id": "7bf4637b",
   "metadata": {},
   "outputs": [],
   "source": []
  },
  {
   "cell_type": "code",
   "execution_count": null,
   "id": "823b3bf0",
   "metadata": {},
   "outputs": [],
   "source": []
  },
  {
   "cell_type": "code",
   "execution_count": null,
   "id": "c3024acd",
   "metadata": {},
   "outputs": [],
   "source": []
  },
  {
   "cell_type": "code",
   "execution_count": null,
   "id": "bc654729",
   "metadata": {},
   "outputs": [],
   "source": []
  },
  {
   "cell_type": "code",
   "execution_count": 69,
   "id": "dceab94d",
   "metadata": {},
   "outputs": [
    {
     "data": {
      "text/plain": [
       "Text(0.5, 1.0, 'Programming languages used')"
      ]
     },
     "execution_count": 69,
     "metadata": {},
     "output_type": "execute_result"
    },
    {
     "data": {
      "image/png": "[encoded data removed]",
      "text/plain": [
       "<Figure size 640x480 with 1 Axes>"
      ]
     },
     "metadata": {},
     "output_type": "display_data"
    }
   ],
   "source": [
    "import matplotlib.pyplot as plt\n",
    "sub = (\"python\",\"sql\",\"ML\",\"Excel\",\"PowerBi\")\n",
    "arr1 = np.arange(len(sub))\n",
    "arr2 = np.array([10,10,10,6,8,3,1,1,1,1,1,1,2,2])\n",
    "sorted_arr = -np.sort(-arr2)\n",
    "plt.pie(arr2)\n",
    "plt.ylabel(\"usage\")\n",
    "plt.xlabel(\"subject\")\n",
    "plt.title(\"Programming languages used\")"
   ]
  },
  {
   "cell_type": "code",
   "execution_count": null,
   "id": "c112a1a0",
   "metadata": {},
   "outputs": [],
   "source": []
  }
 ],
 "metadata": {
  "kernelspec": {
   "display_name": "Python 3 (ipykernel)",
   "language": "python",
   "name": "python3"
  },
  "language_info": {
   "codemirror_mode": {
    "name": "ipython",
    "version": 3
   },
   "file_extension": ".py",
   "mimetype": "text/x-python",
   "name": "python",
   "nbconvert_exporter": "python",
   "pygments_lexer": "ipython3",
   "version": "3.11.5"
  }
 },
 "nbformat": 4,
 "nbformat_minor": 5
}
